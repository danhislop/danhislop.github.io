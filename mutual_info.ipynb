{
 "cells": [
  {
   "cell_type": "markdown",
   "metadata": {
    "application/vnd.databricks.v1+cell": {
     "cellMetadata": {
      "byteLimit": 2048000,
      "rowLimit": 10000
     },
     "inputWidgets": {},
     "nuid": "09a9ea0a-7d6f-4395-ad49-142802534b10",
     "showTitle": false,
     "title": ""
    }
   },
   "source": [
    "# Confirm Mutual Info Calcs\n",
    "The goal of this notebook is to compare computing Mutual Information  manually versus using [sklearn's package](https://scikit-learn.org/stable/modules/generated/sklearn.feature_selection.mutual_info_classif.html#sklearn.feature_selection.mutual_info_classif). This confirms the math behind it and ensures we know what we're doing.\n",
    "\n",
    "In all cases the response variable is discrete (e.g. is_churn=T/F). But the independent variable may be discrete or continuous; each uses different approach.\n",
    "\n",
    " We start here with the case of discrete response variable in its simplest form: binary, then continuous, then dig into Discrete (non-binary) data and how sklearn treats these as Continuous. Finally, we confirm that after one-hot encoding categorical variables we can find mutual information for each class using binary approach."
   ]
  },
  {
   "cell_type": "markdown",
   "metadata": {
    "application/vnd.databricks.v1+cell": {
     "cellMetadata": {
      "byteLimit": 2048000,
      "rowLimit": 10000
     },
     "inputWidgets": {},
     "nuid": "8728ead2-6e9b-4ab7-8983-ee2f38a80421",
     "showTitle": false,
     "title": ""
    }
   },
   "source": [
    "## Mutual Information: Formula\n",
    "<img src ='./mutual_info_formula.png'> "
   ]
  },
  {
   "cell_type": "markdown",
   "metadata": {
    "application/vnd.databricks.v1+cell": {
     "cellMetadata": {
      "byteLimit": 2048000,
      "rowLimit": 10000
     },
     "inputWidgets": {},
     "nuid": "0b0f2c61-9673-4fc1-843c-fb34fbc6c876",
     "showTitle": false,
     "title": ""
    }
   },
   "source": [
    "# Findings\n",
    "### Previewed here, repeated at the end of notebook\n",
    "A Manual Calculation of Mutual Information based on a well-known formula was created. \n",
    " - When applied to Discrete (Binary) values, and compared with SKLearn's `mutual_info_classif`, the formula produces the same output, and seem reliable. \n",
    " - When applied to Continuous values, the formula does not produce reliable results, and SKLearn's `mutual_info_classif` implementation should be used with specified parameter `discrete_features=[False]`\n",
    " - When applied to Discrete (but not Binary) values (such as Ordinal columns), SkLearn's `mutual_info_classif` implementation returns null if specified parameter `discrete_features=[True]`.\n",
    " - When Discrete (but not Binary) values are one-hot encoded, either Manual or Sklearn's approaches are equal (as already shown). However the downside is we've measured mutual information PER VALUE of categorical column, rather than the column's overall importance.\n",
    "\n",
    "Clarified (and still clarifying) sklearn's use of the word 'discrete' here."
   ]
  },
  {
   "cell_type": "code",
   "execution_count": 0,
   "metadata": {
    "application/vnd.databricks.v1+cell": {
     "cellMetadata": {
      "byteLimit": 2048000,
      "rowLimit": 10000
     },
     "inputWidgets": {},
     "nuid": "2a2d1488-9d47-49a9-b479-395ca4469ccc",
     "showTitle": true,
     "title": "Pandas Version Requirements"
    }
   },
   "outputs": [
    {
     "output_type": "stream",
     "name": "stdout",
     "output_type": "stream",
     "text": [
      "1.3.4\n"
     ]
    }
   ],
   "source": [
    "### Note this notebook was coded with and requires a pre 2.0.0 pandas that uses .append()\n",
    "import numpy as np\n",
    "import pandas as pd\n",
    "print(pd.__version__)"
   ]
  },
  {
   "cell_type": "markdown",
   "metadata": {
    "application/vnd.databricks.v1+cell": {
     "cellMetadata": {
      "byteLimit": 2048000,
      "rowLimit": 10000
     },
     "inputWidgets": {},
     "nuid": "60272836-4442-416b-8e5d-c07e6a8c6b4b",
     "showTitle": false,
     "title": ""
    }
   },
   "source": [
    "# Data Prep"
   ]
  },
  {
   "cell_type": "markdown",
   "metadata": {
    "application/vnd.databricks.v1+cell": {
     "cellMetadata": {
      "byteLimit": 2048000,
      "rowLimit": 10000
     },
     "inputWidgets": {},
     "nuid": "eb53d434-a1c1-4d35-8e3d-d4d3f5854b85",
     "showTitle": false,
     "title": ""
    }
   },
   "source": [
    "## Test Data: Titanic\n",
    "cross checking with example from trainindata. https://www.blog.trainindata.com/mutual-information-with-python/\n",
    "This is only necessary when use_test_data=False"
   ]
  },
  {
   "cell_type": "code",
   "execution_count": 0,
   "metadata": {
    "application/vnd.databricks.v1+cell": {
     "cellMetadata": {
      "byteLimit": 2048000,
      "rowLimit": 10000
     },
     "inputWidgets": {},
     "nuid": "3d781003-4c59-4e41-ae2f-593a6d5789e7",
     "showTitle": false,
     "title": ""
    }
   },
   "outputs": [],
   "source": [
    "def generate_test_data():\n",
    "    import pandas as pd\n",
    "    from sklearn.metrics import mutual_info_score\n",
    "    from sklearn.feature_selection import mutual_info_classif, mutual_info_regression\n",
    "    # from feature_engine.encoding import RareLabelEncoder\n",
    "\n",
    "    variables = [\n",
    "        'pclass', 'survived', 'sex', 'age', 'sibsp',\n",
    "        'parch', 'fare', 'cabin', 'embarked',\n",
    "        ]\n",
    "    data = pd.read_csv('https://www.openml.org/data/get_csv/16826755/phpMYEkMl',\n",
    "                    usecols=variables,\n",
    "                    na_values='?',\n",
    "                    dtype={'fare': float, 'age': float},\n",
    "                    )\n",
    "    \n",
    "    print(f\"before cleanup there are {len(data)} rows\")\n",
    "    data.dropna(subset=['embarked', 'fare'], inplace=True)\n",
    "    data['age'] = data['age'].fillna(data['age'].mean())\n",
    "    def get_first_cabin(row):\n",
    "        try:\n",
    "            return row.split()[0]\n",
    "        except:\n",
    "            return 'N'\n",
    "    data['cabin'] = data['cabin'].apply(get_first_cabin).str[0]\n",
    "\n",
    "    ### because feature_engine wouldn't load in databricks, this section is commented out. can do another way if need these columns\n",
    "    \"\"\"encoder = RareLabelEncoder(variables='cabin', n_categories=2)\n",
    "    data = encoder.fit_transform(data)\n",
    "\n",
    "    #convert categorical variables to numbers\n",
    "    encoder = OrdinalEncoder(\n",
    "                    encoding_method='arbitrary',\n",
    "                    variables=[\"sex\", \"embarked\"],\n",
    "                    )\n",
    "    data = encoder.fit_transform(data) \"\"\"\n",
    "    data['sex'] = data['sex'].replace({'female': 0, 'male': 1})\n",
    "    data.head()\n",
    "    return data"
   ]
  },
  {
   "cell_type": "markdown",
   "metadata": {
    "application/vnd.databricks.v1+cell": {
     "cellMetadata": {
      "byteLimit": 2048000,
      "rowLimit": 10000
     },
     "inputWidgets": {},
     "nuid": "1f7d743b-8a87-4cbe-81b8-a835d0b02dd7",
     "showTitle": false,
     "title": ""
    }
   },
   "source": [
    "# Mutual Information For Binary Data"
   ]
  },
  {
   "cell_type": "code",
   "execution_count": 0,
   "metadata": {
    "application/vnd.databricks.v1+cell": {
     "cellMetadata": {
      "byteLimit": 2048000,
      "rowLimit": 10000
     },
     "inputWidgets": {},
     "nuid": "7515fd3f-2e8d-4aa2-983c-9564534746fc",
     "showTitle": true,
     "title": "Select Data Source"
    }
   },
   "outputs": [
    {
     "output_type": "stream",
     "name": "stdout",
     "output_type": "stream",
     "text": [
      "Use Test Data? True\nbefore cleanup there are 1309 rows\nSending in 9 columns which are: Index(['pclass', 'survived', 'sex', 'age', 'sibsp', 'parch', 'fare', 'cabin',\n       'embarked'],\n      dtype='object'), and there are now 1306 rows\n"
     ]
    }
   ],
   "source": [
    "### This will be overwritten in later Continuous section. Choose here for Binary section:\n",
    "### To make coding easer, standardize either input as \"df\", and choose columns.\n",
    "### Make sure to set the response variable as col2 - important later when we loop through all columns\n",
    "\n",
    "\n",
    "use_test_data=True\n",
    "print(f\"Use Test Data? {use_test_data}\")\n",
    "\n",
    "if use_test_data:\n",
    "    data = generate_test_data()\n",
    "    df = data.copy()\n",
    "    col1='sex'      # Binary Values {'female': 0, 'male': 1}\n",
    "    col2='survived'\n",
    "else:\n",
    "    print(\"No prod data configured here\")\n",
    "\n",
    "print(f\"Sending in {len(data.columns)} columns which are: {data.columns}, and there are now {len(data)} rows\")\n"
   ]
  },
  {
   "cell_type": "code",
   "execution_count": 0,
   "metadata": {
    "application/vnd.databricks.v1+cell": {
     "cellMetadata": {
      "byteLimit": 2048000,
      "rowLimit": 10000
     },
     "inputWidgets": {},
     "nuid": "faca01d8-7830-46b7-a5fa-9aab3b74f8fc",
     "showTitle": false,
     "title": ""
    },
    "jupyter": {
     "outputs_hidden": true
    }
   },
   "outputs": [],
   "source": [
    "#print(data['age'].to_list())"
   ]
  },
  {
   "cell_type": "markdown",
   "metadata": {
    "application/vnd.databricks.v1+cell": {
     "cellMetadata": {
      "byteLimit": 2048000,
      "rowLimit": 10000
     },
     "inputWidgets": {},
     "nuid": "50d56b31-6151-4729-af6f-4aae4d7873c3",
     "showTitle": false,
     "title": ""
    }
   },
   "source": [
    "## Mutual Information: Contingency Table"
   ]
  },
  {
   "cell_type": "code",
   "execution_count": 0,
   "metadata": {
    "application/vnd.databricks.v1+cell": {
     "cellMetadata": {
      "byteLimit": 2048000,
      "rowLimit": 10000
     },
     "inputWidgets": {},
     "nuid": "798b7e0b-c354-457e-b1cc-37992099935f",
     "showTitle": false,
     "title": ""
    }
   },
   "outputs": [],
   "source": [
    "def label_contingency_table(contingency_table):\n",
    "    \"\"\" Create labeled version to confirm visually. Output is not used elsewhere \"\"\"\n",
    "    labeled_contingency_table = contingency_table.round(4)\n",
    "    labeled_contingency_table.columns = [f\" {col1} ({col})\" for col in labeled_contingency_table.columns]\n",
    "    labeled_contingency_table.index = [f\"({index}) {col2}\" for index in labeled_contingency_table.index]\n",
    "    print(labeled_contingency_table)\n"
   ]
  },
  {
   "cell_type": "code",
   "execution_count": 0,
   "metadata": {
    "application/vnd.databricks.v1+cell": {
     "cellMetadata": {
      "byteLimit": 2048000,
      "rowLimit": 10000
     },
     "inputWidgets": {},
     "nuid": "17ed3dea-76be-43d3-afdd-da2e4001effb",
     "showTitle": false,
     "title": ""
    }
   },
   "outputs": [],
   "source": [
    "def create_contingency_table(df, col1, col2='is_churn'):\n",
    "    \"\"\" given a full dataframe, calc the Mutual Information between 2 Discrete columns \"\"\"\n",
    "\n",
    "    ### Create contingency table using raw values \n",
    "    values_contingency_table = pd.crosstab(df[col1], df[col2], margins=True, margins_name='Total').transpose()\n",
    "    display(label_contingency_table(values_contingency_table))\n",
    "\n",
    "    ### Show probabilities by dividing each value by total possible\n",
    "    contingency_table = pd.crosstab(df[col1], df[col2], margins=True, margins_name='Total', normalize='all').transpose()\n",
    "\n",
    "    # Exclude 'Total' row and column (could also remove \"normalize\" but that is helpful to view)\n",
    "    contingency_table = contingency_table.iloc[:-1, :-1]\n",
    "\n",
    "    return contingency_table\n"
   ]
  },
  {
   "cell_type": "code",
   "execution_count": 0,
   "metadata": {
    "application/vnd.databricks.v1+cell": {
     "cellMetadata": {
      "byteLimit": 2048000,
      "rowLimit": 10000
     },
     "inputWidgets": {},
     "nuid": "103d7b3f-4b8e-4018-aa3f-e48602a238f3",
     "showTitle": false,
     "title": ""
    }
   },
   "outputs": [
    {
     "output_type": "stream",
     "name": "stdout",
     "output_type": "stream",
     "text": [
      "                   sex (0)   sex (1)   sex (Total)\n(0) survived           127       681           808\n(1) survived           337       161           498\n(Total) survived       464       842          1306\n"
     ]
    },
    {
     "output_type": "display_data",
     "data": {
      "text/html": [
       "<style scoped>\n",
       "  .table-result-container {\n",
       "    max-height: 300px;\n",
       "    overflow: auto;\n",
       "  }\n",
       "  table, th, td {\n",
       "    border: 1px solid black;\n",
       "    border-collapse: collapse;\n",
       "  }\n",
       "  th, td {\n",
       "    padding: 5px;\n",
       "  }\n",
       "  th {\n",
       "    text-align: left;\n",
       "  }\n",
       "</style><div class='table-result-container'><table class='table-result'><thead style='background-color: white'><tr><th>0</th><th>1</th></tr></thead><tbody><tr><td>0.09724349157733538</td><td>0.5214395099540582</td></tr><tr><td>0.25803981623277183</td><td>0.12327718223583461</td></tr></tbody></table></div>"
      ]
     },
     "metadata": {
      "application/vnd.databricks.v1+output": {
       "addedWidgets": {},
       "aggData": [],
       "aggError": "",
       "aggOverflow": false,
       "aggSchema": [],
       "aggSeriesLimitReached": false,
       "aggType": "",
       "arguments": {},
       "columnCustomDisplayInfos": {},
       "data": [
        [
         0.09724349157733538,
         0.5214395099540582
        ],
        [
         0.25803981623277183,
         0.12327718223583461
        ]
       ],
       "datasetInfos": [],
       "dbfsResultPath": null,
       "isJsonSchema": true,
       "metadata": {},
       "overflow": false,
       "plotOptions": {
        "customPlotOptions": {},
        "displayType": "table",
        "pivotAggregation": null,
        "pivotColumns": null,
        "xColumns": null,
        "yColumns": null
       },
       "removedWidgets": [],
       "schema": [
        {
         "metadata": "{}",
         "name": "0",
         "type": "\"double\""
        },
        {
         "metadata": "{}",
         "name": "1",
         "type": "\"double\""
        }
       ],
       "type": "table"
      }
     },
     "output_type": "display_data"
    }
   ],
   "source": [
    "contingency_table = create_contingency_table(df, col1=col1, col2=col2)\n",
    "display(contingency_table)"
   ]
  },
  {
   "cell_type": "markdown",
   "metadata": {
    "application/vnd.databricks.v1+cell": {
     "cellMetadata": {
      "byteLimit": 2048000,
      "rowLimit": 10000
     },
     "inputWidgets": {},
     "nuid": "8244f45a-8eed-4957-a6c3-ea59465318f4",
     "showTitle": false,
     "title": ""
    }
   },
   "source": [
    "## Mutual Information: Formula\n",
    "<img src ='/files/dhislop/mutual_info_formula.png'> "
   ]
  },
  {
   "cell_type": "code",
   "execution_count": 0,
   "metadata": {
    "application/vnd.databricks.v1+cell": {
     "cellMetadata": {
      "byteLimit": 2048000,
      "rowLimit": 10000
     },
     "inputWidgets": {},
     "nuid": "39a7ee17-40be-4bb9-b766-cec646753a87",
     "showTitle": false,
     "title": ""
    }
   },
   "outputs": [],
   "source": [
    "def get_mutual_info_from_contingency_tablex(contingency_table):\n",
    "    \"\"\" Given a Contingency Table, Compute mutual information \"\"\"\n",
    "    mutual_info = 0\n",
    "\n",
    "    print(f\"contingency_table rows: {contingency_table.index.name}, columns: {contingency_table.columns.name}\")\n",
    "\n",
    "    for i, row in enumerate(contingency_table.index):\n",
    "        for j, col in enumerate(contingency_table.columns):\n",
    "            p_xy = contingency_table.at[row, col]\n",
    "            p_x = contingency_table.sum(axis=1).at[row]\n",
    "            p_y = contingency_table.sum(axis=0).at[col]\n",
    "            # print(f\"for row {row}, col {col}, the p_xy={p_xy}, p_x={p_x}, p_y={p_y}\")\n",
    "\n",
    "            if p_xy > 0:\n",
    "                ### HERE IS THE FORMULA ###\n",
    "                mutual_info += p_xy * np.log(p_xy / (p_x * p_y))\n",
    "\n",
    "    print(f\"Manual Mutual Information: {mutual_info:.3f}\")\n",
    "    return round(mutual_info,3)"
   ]
  },
  {
   "cell_type": "code",
   "execution_count": 0,
   "metadata": {
    "application/vnd.databricks.v1+cell": {
     "cellMetadata": {
      "byteLimit": 2048000,
      "rowLimit": 10000
     },
     "inputWidgets": {},
     "nuid": "395cbe8d-8a0c-442e-a455-77d71c2365a7",
     "showTitle": false,
     "title": ""
    }
   },
   "outputs": [],
   "source": [
    "def get_mutual_info_from_contingency_table(contingency_table, col1='feature_name'):\n",
    "    \"\"\" Given a Contingency Table, Compute mutual information \"\"\"\n",
    "    mutual_info = 0\n",
    "    mutual_info_this_combination = 0\n",
    "    \n",
    "    summary_df = pd.DataFrame(columns=['Feature', 'p_x', 'p_xy', 'p_y', 'Calc_MI'])\n",
    "\n",
    "    print(f\"contingency_table rows: {contingency_table.index.name}, columns: {contingency_table.columns.name}\")\n",
    "\n",
    "    for i, row in enumerate(contingency_table.index):\n",
    "        for j, col in enumerate(contingency_table.columns):\n",
    "            p_xy = contingency_table.at[row, col]\n",
    "            p_x = contingency_table.sum(axis=1).at[row]\n",
    "            p_y = contingency_table.sum(axis=0).at[col]\n",
    "            #print(f\"for row {row}, col {col}, the p_xy={p_xy}, p_x={p_x}, p_y={p_y}\")\n",
    "\n",
    "            if p_xy > 0:\n",
    "                mutual_info_this_combination = p_xy * np.log(p_xy / (p_x * p_y))\n",
    "                mutual_info += mutual_info_this_combination\n",
    "\n",
    "            summary_df = summary_df.append({\n",
    "                #'Feature': col1,\n",
    "                'p_x': round(p_x, 2),\n",
    "                'p_xy': round(p_xy, 2),\n",
    "                'p_y': round(p_y,2),\n",
    "                'Calc_MI': round(mutual_info_this_combination,3)\n",
    "                }, ignore_index=True).sort_values(by='Calc_MI', ascending=False)\n",
    "    \n",
    "    summary_df['Feature']=col1\n",
    "    print(f\"Manual Mutual Information: {mutual_info:.3f}\")\n",
    "    return round(mutual_info,3), summary_df"
   ]
  },
  {
   "cell_type": "code",
   "execution_count": 0,
   "metadata": {
    "application/vnd.databricks.v1+cell": {
     "cellMetadata": {
      "byteLimit": 2048000,
      "rowLimit": 10000
     },
     "inputWidgets": {},
     "nuid": "1e86e844-f85e-4e6d-a3f4-2cdb80a76f4f",
     "showTitle": false,
     "title": ""
    }
   },
   "outputs": [
    {
     "output_type": "stream",
     "name": "stdout",
     "output_type": "stream",
     "text": [
      "contingency_table rows: survived, columns: sex\nManual Mutual Information: 0.142\n"
     ]
    }
   ],
   "source": [
    "manual_mutual_info, summary_df = get_mutual_info_from_contingency_table(contingency_table=contingency_table, col1=col1)"
   ]
  },
  {
   "cell_type": "markdown",
   "metadata": {
    "application/vnd.databricks.v1+cell": {
     "cellMetadata": {
      "byteLimit": 2048000,
      "rowLimit": 10000
     },
     "inputWidgets": {},
     "nuid": "532af3e0-7370-43a3-949a-2e49320a0c78",
     "showTitle": false,
     "title": ""
    }
   },
   "source": [
    "### Show Details of Probability in Mutual Info Calc"
   ]
  },
  {
   "cell_type": "code",
   "execution_count": 0,
   "metadata": {
    "application/vnd.databricks.v1+cell": {
     "cellMetadata": {
      "byteLimit": 2048000,
      "rowLimit": 10000
     },
     "inputWidgets": {},
     "nuid": "3e36ac61-a90d-4e28-bbaa-f3fe9c4ad54a",
     "showTitle": true,
     "title": "Show Details of Probability in Mutual Info Calc"
    }
   },
   "outputs": [
    {
     "output_type": "display_data",
     "data": {
      "text/html": [
       "<style scoped>\n",
       "  .table-result-container {\n",
       "    max-height: 300px;\n",
       "    overflow: auto;\n",
       "  }\n",
       "  table, th, td {\n",
       "    border: 1px solid black;\n",
       "    border-collapse: collapse;\n",
       "  }\n",
       "  th, td {\n",
       "    padding: 5px;\n",
       "  }\n",
       "  th {\n",
       "    text-align: left;\n",
       "  }\n",
       "</style><div class='table-result-container'><table class='table-result'><thead style='background-color: white'><tr><th>Feature</th><th>p_x</th><th>p_xy</th><th>p_y</th><th>Calc_MI</th></tr></thead><tbody><tr><td>sex</td><td>0.38</td><td>0.26</td><td>0.36</td><td>0.166</td></tr><tr><td>sex</td><td>0.62</td><td>0.52</td><td>0.64</td><td>0.14</td></tr><tr><td>sex</td><td>0.62</td><td>0.1</td><td>0.36</td><td>-0.079</td></tr><tr><td>sex</td><td>0.38</td><td>0.12</td><td>0.64</td><td>-0.085</td></tr></tbody></table></div>"
      ]
     },
     "metadata": {
      "application/vnd.databricks.v1+output": {
       "addedWidgets": {},
       "aggData": [],
       "aggError": "",
       "aggOverflow": false,
       "aggSchema": [],
       "aggSeriesLimitReached": false,
       "aggType": "",
       "arguments": {},
       "columnCustomDisplayInfos": {},
       "data": [
        [
         "sex",
         0.38,
         0.26,
         0.36,
         0.166
        ],
        [
         "sex",
         0.62,
         0.52,
         0.64,
         0.14
        ],
        [
         "sex",
         0.62,
         0.1,
         0.36,
         -0.079
        ],
        [
         "sex",
         0.38,
         0.12,
         0.64,
         -0.085
        ]
       ],
       "datasetInfos": [],
       "dbfsResultPath": null,
       "isJsonSchema": true,
       "metadata": {},
       "overflow": false,
       "plotOptions": {
        "customPlotOptions": {},
        "displayType": "table",
        "pivotAggregation": null,
        "pivotColumns": null,
        "xColumns": null,
        "yColumns": null
       },
       "removedWidgets": [],
       "schema": [
        {
         "metadata": "{}",
         "name": "Feature",
         "type": "\"string\""
        },
        {
         "metadata": "{}",
         "name": "p_x",
         "type": "\"double\""
        },
        {
         "metadata": "{}",
         "name": "p_xy",
         "type": "\"double\""
        },
        {
         "metadata": "{}",
         "name": "p_y",
         "type": "\"double\""
        },
        {
         "metadata": "{}",
         "name": "Calc_MI",
         "type": "\"double\""
        }
       ],
       "type": "table"
      }
     },
     "output_type": "display_data"
    },
    {
     "output_type": "stream",
     "name": "stdout",
     "output_type": "stream",
     "text": [
      "Mutual Information for this feature: 0.142\n"
     ]
    }
   ],
   "source": [
    "display(summary_df)\n",
    "print(f\"Mutual Information for this feature: {summary_df.Calc_MI.sum().round(3)}\")"
   ]
  },
  {
   "cell_type": "markdown",
   "metadata": {
    "application/vnd.databricks.v1+cell": {
     "cellMetadata": {
      "byteLimit": 2048000,
      "rowLimit": 10000
     },
     "inputWidgets": {},
     "nuid": "243d764e-38a7-456d-8501-4fcf4bb323b1",
     "showTitle": false,
     "title": ""
    }
   },
   "source": [
    "## Mutual Information: SKLearn Methods"
   ]
  },
  {
   "cell_type": "code",
   "execution_count": 0,
   "metadata": {
    "application/vnd.databricks.v1+cell": {
     "cellMetadata": {
      "byteLimit": 2048000,
      "rowLimit": 10000
     },
     "inputWidgets": {},
     "nuid": "e3c7d96e-175e-4a42-b857-ee991a663ce5",
     "showTitle": true,
     "title": "Mutual Info from SKLearn: Discrete or Continuous"
    }
   },
   "outputs": [],
   "source": [
    "from sklearn.metrics import mutual_info_score\n",
    "from sklearn.feature_selection import mutual_info_classif, mutual_info_regression\n",
    "def get_sklearn_mutual_info(df, col1=col1, col2=col2, col1_discrete=True):\n",
    "    if col1_discrete:\n",
    "        \"\"\" For binary columns, can use _score or _classif, same result \"\"\"\n",
    "        # mi = round(mutual_info_score(df[col1], df[col2]), 3)\n",
    "        mi = mutual_info_classif(df[col1].to_frame(), df[col2], discrete_features=[True]).round(3)[0]\n",
    "\n",
    "    else:\n",
    "        \"\"\" For continuous columns: specify False for discrete_features \"\"\"\n",
    "        mi = mutual_info_classif(df[col1].to_frame(), df[col2], discrete_features=[False]).round(3)[0]\n",
    "\n",
    "    return mi"
   ]
  },
  {
   "cell_type": "code",
   "execution_count": 0,
   "metadata": {
    "application/vnd.databricks.v1+cell": {
     "cellMetadata": {
      "byteLimit": 2048000,
      "rowLimit": 10000
     },
     "inputWidgets": {},
     "nuid": "4ffac367-d8e7-4b57-a172-3c1e578b865f",
     "showTitle": false,
     "title": ""
    }
   },
   "outputs": [
    {
     "output_type": "stream",
     "name": "stdout",
     "output_type": "stream",
     "text": [
      "sklearn's mutual info calculation: 0.142\n"
     ]
    }
   ],
   "source": [
    "sklearn_mutual_info = get_sklearn_mutual_info(df, col1=col1, col2=col2, col1_discrete=True)\n",
    "print(f\"sklearn's mutual info calculation: {sklearn_mutual_info}\")"
   ]
  },
  {
   "cell_type": "code",
   "execution_count": 0,
   "metadata": {
    "application/vnd.databricks.v1+cell": {
     "cellMetadata": {
      "byteLimit": 2048000,
      "rowLimit": 10000
     },
     "inputWidgets": {},
     "nuid": "6dc88382-e984-4ba7-ac8f-2fad0a753147",
     "showTitle": false,
     "title": ""
    }
   },
   "outputs": [
    {
     "output_type": "stream",
     "name": "stdout",
     "output_type": "stream",
     "text": [
      "For columns sex and survived, Mutual Information is:\nManual Calc 0.142\nSklearn Calc 0.142\n"
     ]
    }
   ],
   "source": [
    "print(f\"For columns {col1} and {col2}, Mutual Information is:\")\n",
    "print(f\"Manual Calc {manual_mutual_info}\")\n",
    "print(f\"Sklearn Calc {sklearn_mutual_info}\")"
   ]
  },
  {
   "cell_type": "markdown",
   "metadata": {
    "application/vnd.databricks.v1+cell": {
     "cellMetadata": {
      "byteLimit": 2048000,
      "rowLimit": 10000
     },
     "inputWidgets": {},
     "nuid": "63f0fedc-e740-4129-858d-984cc52be0b4",
     "showTitle": false,
     "title": ""
    }
   },
   "source": [
    "## Iterate all Binary Columns"
   ]
  },
  {
   "cell_type": "code",
   "execution_count": 0,
   "metadata": {
    "application/vnd.databricks.v1+cell": {
     "cellMetadata": {
      "byteLimit": 2048000,
      "rowLimit": 10000
     },
     "inputWidgets": {},
     "nuid": "9909f835-64c5-4753-8e83-c49f4eba52e3",
     "showTitle": false,
     "title": ""
    }
   },
   "outputs": [
    {
     "output_type": "stream",
     "name": "stdout",
     "output_type": "stream",
     "text": [
      "drop these  ['pclass', 'age', 'sibsp', 'parch', 'fare', 'cabin', 'embarked'] \nkeep these  ['sex']\n"
     ]
    }
   ],
   "source": [
    "### Examine only columns with 2 values\n",
    "columns_to_drop = [col for col in df.columns if len(df[col].unique()) != 2]\n",
    "df_binary_iterate = df.drop(columns=columns_to_drop)\n",
    "cols_binary_iterate = list(df_binary_iterate.columns)\n",
    "\n",
    "### Remove the response variable - don't need to run it against itself\n",
    "if col2 in cols_binary_iterate:\n",
    "    cols_binary_iterate.remove(col2)\n",
    "\n",
    "print(\"drop these \", columns_to_drop, \"\\nkeep these \",cols_binary_iterate)"
   ]
  },
  {
   "cell_type": "code",
   "execution_count": 0,
   "metadata": {
    "application/vnd.databricks.v1+cell": {
     "cellMetadata": {
      "byteLimit": 2048000,
      "rowLimit": 10000
     },
     "inputWidgets": {},
     "nuid": "9385ca0f-0ed8-4580-9772-59881e0e7f76",
     "showTitle": false,
     "title": ""
    }
   },
   "outputs": [
    {
     "output_type": "stream",
     "name": "stdout",
     "output_type": "stream",
     "text": [
      "working on column sex\n                   sex (0)   sex (1)   sex (Total)\n(0) survived           127       681           808\n(1) survived           337       161           498\n(Total) survived       464       842          1306\ncontingency_table rows: survived, columns: sex\nManual Mutual Information: 0.142\n"
     ]
    },
    {
     "output_type": "display_data",
     "data": {
      "text/html": [
       "<style scoped>\n",
       "  .table-result-container {\n",
       "    max-height: 300px;\n",
       "    overflow: auto;\n",
       "  }\n",
       "  table, th, td {\n",
       "    border: 1px solid black;\n",
       "    border-collapse: collapse;\n",
       "  }\n",
       "  th, td {\n",
       "    padding: 5px;\n",
       "  }\n",
       "  th {\n",
       "    text-align: left;\n",
       "  }\n",
       "</style><div class='table-result-container'><table class='table-result'><thead style='background-color: white'><tr><th>Response</th><th>Feature</th><th>manual_mutual_info</th><th>sklearn_mutual_info</th></tr></thead><tbody><tr><td>survived</td><td>sex</td><td>0.142</td><td>0.142</td></tr></tbody></table></div>"
      ]
     },
     "metadata": {
      "application/vnd.databricks.v1+output": {
       "addedWidgets": {},
       "aggData": [],
       "aggError": "",
       "aggOverflow": false,
       "aggSchema": [],
       "aggSeriesLimitReached": false,
       "aggType": "",
       "arguments": {},
       "columnCustomDisplayInfos": {},
       "data": [
        [
         "survived",
         "sex",
         0.142,
         0.142
        ]
       ],
       "datasetInfos": [],
       "dbfsResultPath": null,
       "isJsonSchema": true,
       "metadata": {},
       "overflow": false,
       "plotOptions": {
        "customPlotOptions": {},
        "displayType": "table",
        "pivotAggregation": null,
        "pivotColumns": null,
        "xColumns": null,
        "yColumns": null
       },
       "removedWidgets": [],
       "schema": [
        {
         "metadata": "{}",
         "name": "Response",
         "type": "\"string\""
        },
        {
         "metadata": "{}",
         "name": "Feature",
         "type": "\"string\""
        },
        {
         "metadata": "{}",
         "name": "manual_mutual_info",
         "type": "\"double\""
        },
        {
         "metadata": "{}",
         "name": "sklearn_mutual_info",
         "type": "\"double\""
        }
       ],
       "type": "table"
      }
     },
     "output_type": "display_data"
    }
   ],
   "source": [
    "### Iterate thru all Binary Columns getting Mutual Info with col2 (response variable - set in Mutual Info section)\n",
    "\n",
    "mutual_info_summary_binary = pd.DataFrame(columns=['Response', 'Feature', 'manual_mutual_info', 'sklearn_mutual_info'])\n",
    "\n",
    "for col1 in cols_binary_iterate:\n",
    "    print(f\"working on column {col1}\")\n",
    "    manual_mutual_info_value, summary_df = get_mutual_info_from_contingency_table(create_contingency_table(df_binary_iterate, col1=col1, col2=col2))\n",
    "\n",
    "    sklearn_mutual_info_value = get_sklearn_mutual_info(df, col1=col1, col2=col2, col1_discrete=True)\n",
    "    mutual_info_summary_binary = mutual_info_summary_binary.append({\n",
    "        'Feature': col1,\n",
    "        'Response': col2,\n",
    "        'manual_mutual_info': manual_mutual_info_value,\n",
    "        'sklearn_mutual_info': sklearn_mutual_info_value,\n",
    "        }, ignore_index=True).sort_values(by='sklearn_mutual_info', ascending=False)\n",
    "\n",
    "display(mutual_info_summary_binary)\n",
    "\n"
   ]
  },
  {
   "cell_type": "markdown",
   "metadata": {
    "application/vnd.databricks.v1+cell": {
     "cellMetadata": {
      "byteLimit": 2048000,
      "rowLimit": 10000
     },
     "inputWidgets": {},
     "nuid": "09b3c31d-58ad-4bd6-99c5-8f9a1383bee3",
     "showTitle": false,
     "title": ""
    }
   },
   "source": [
    "## Result: For Binary variables: Manual or SKLearn give same result"
   ]
  },
  {
   "cell_type": "markdown",
   "metadata": {
    "application/vnd.databricks.v1+cell": {
     "cellMetadata": {
      "byteLimit": 2048000,
      "rowLimit": 10000
     },
     "inputWidgets": {},
     "nuid": "48137692-cd38-40ff-8736-baea8e297860",
     "showTitle": false,
     "title": ""
    }
   },
   "source": [
    "# Mutual Information For Continuous Data"
   ]
  },
  {
   "cell_type": "code",
   "execution_count": 0,
   "metadata": {
    "application/vnd.databricks.v1+cell": {
     "cellMetadata": {
      "byteLimit": 2048000,
      "rowLimit": 10000
     },
     "inputWidgets": {},
     "nuid": "2a667d17-a27a-433d-960f-94431845d7a1",
     "showTitle": false,
     "title": ""
    }
   },
   "outputs": [
    {
     "output_type": "stream",
     "name": "stdout",
     "output_type": "stream",
     "text": [
      "Use Test Data? True\nbefore cleanup there are 1309 rows\n"
     ]
    }
   ],
   "source": [
    "### This will overwrite earlier selections. Choose here for Continuous section:\n",
    "### To make coding easer, standardize either input as \"df\", and choose columns.\n",
    "### Make sure to set the response variable as col2 - important later when we loop through all columns\n",
    "print(f\"Use Test Data? {use_test_data}\")\n",
    "if use_test_data:\n",
    "    data = generate_test_data()\n",
    "    df = data.copy()\n",
    "    col1='fare'     # Continuous Values\n",
    "    col2='survived'\n",
    "else:\n",
    "    df = df_binary.copy()\n",
    "    col1='is_churn_logo_lost' # 'is_churn_downgrade'\n",
    "    col2='is_churn'\n"
   ]
  },
  {
   "cell_type": "code",
   "execution_count": 0,
   "metadata": {
    "application/vnd.databricks.v1+cell": {
     "cellMetadata": {
      "byteLimit": 2048000,
      "rowLimit": 10000
     },
     "inputWidgets": {},
     "nuid": "0c56b267-4829-4996-8316-ae7041d9e741",
     "showTitle": false,
     "title": ""
    }
   },
   "outputs": [
    {
     "output_type": "display_data",
     "data": {
      "text/html": [
       "<div>\n",
       "<style scoped>\n",
       "    .dataframe tbody tr th:only-of-type {\n",
       "        vertical-align: middle;\n",
       "    }\n",
       "\n",
       "    .dataframe tbody tr th {\n",
       "        vertical-align: top;\n",
       "    }\n",
       "\n",
       "    .dataframe thead th {\n",
       "        text-align: right;\n",
       "    }\n",
       "</style>\n",
       "<table border=\"1\" class=\"dataframe\">\n",
       "  <thead>\n",
       "    <tr style=\"text-align: right;\">\n",
       "      <th></th>\n",
       "      <th>pclass</th>\n",
       "      <th>survived</th>\n",
       "      <th>sex</th>\n",
       "      <th>age</th>\n",
       "      <th>sibsp</th>\n",
       "      <th>parch</th>\n",
       "      <th>fare</th>\n",
       "      <th>cabin</th>\n",
       "      <th>embarked</th>\n",
       "    </tr>\n",
       "  </thead>\n",
       "  <tbody>\n",
       "    <tr>\n",
       "      <th>0</th>\n",
       "      <td>1</td>\n",
       "      <td>1</td>\n",
       "      <td>0</td>\n",
       "      <td>29.0000</td>\n",
       "      <td>0</td>\n",
       "      <td>0</td>\n",
       "      <td>211.3375</td>\n",
       "      <td>B</td>\n",
       "      <td>S</td>\n",
       "    </tr>\n",
       "    <tr>\n",
       "      <th>1</th>\n",
       "      <td>1</td>\n",
       "      <td>1</td>\n",
       "      <td>1</td>\n",
       "      <td>0.9167</td>\n",
       "      <td>1</td>\n",
       "      <td>2</td>\n",
       "      <td>151.5500</td>\n",
       "      <td>C</td>\n",
       "      <td>S</td>\n",
       "    </tr>\n",
       "    <tr>\n",
       "      <th>2</th>\n",
       "      <td>1</td>\n",
       "      <td>0</td>\n",
       "      <td>0</td>\n",
       "      <td>2.0000</td>\n",
       "      <td>1</td>\n",
       "      <td>2</td>\n",
       "      <td>151.5500</td>\n",
       "      <td>C</td>\n",
       "      <td>S</td>\n",
       "    </tr>\n",
       "    <tr>\n",
       "      <th>3</th>\n",
       "      <td>1</td>\n",
       "      <td>0</td>\n",
       "      <td>1</td>\n",
       "      <td>30.0000</td>\n",
       "      <td>1</td>\n",
       "      <td>2</td>\n",
       "      <td>151.5500</td>\n",
       "      <td>C</td>\n",
       "      <td>S</td>\n",
       "    </tr>\n",
       "    <tr>\n",
       "      <th>4</th>\n",
       "      <td>1</td>\n",
       "      <td>0</td>\n",
       "      <td>0</td>\n",
       "      <td>25.0000</td>\n",
       "      <td>1</td>\n",
       "      <td>2</td>\n",
       "      <td>151.5500</td>\n",
       "      <td>C</td>\n",
       "      <td>S</td>\n",
       "    </tr>\n",
       "  </tbody>\n",
       "</table>\n",
       "</div>"
      ]
     },
     "metadata": {
      "application/vnd.databricks.v1+output": {
       "addedWidgets": {},
       "arguments": {},
       "data": "<div>\n<style scoped>\n    .dataframe tbody tr th:only-of-type {\n        vertical-align: middle;\n    }\n\n    .dataframe tbody tr th {\n        vertical-align: top;\n    }\n\n    .dataframe thead th {\n        text-align: right;\n    }\n</style>\n<table border=\"1\" class=\"dataframe\">\n  <thead>\n    <tr style=\"text-align: right;\">\n      <th></th>\n      <th>pclass</th>\n      <th>survived</th>\n      <th>sex</th>\n      <th>age</th>\n      <th>sibsp</th>\n      <th>parch</th>\n      <th>fare</th>\n      <th>cabin</th>\n      <th>embarked</th>\n    </tr>\n  </thead>\n  <tbody>\n    <tr>\n      <th>0</th>\n      <td>1</td>\n      <td>1</td>\n      <td>0</td>\n      <td>29.0000</td>\n      <td>0</td>\n      <td>0</td>\n      <td>211.3375</td>\n      <td>B</td>\n      <td>S</td>\n    </tr>\n    <tr>\n      <th>1</th>\n      <td>1</td>\n      <td>1</td>\n      <td>1</td>\n      <td>0.9167</td>\n      <td>1</td>\n      <td>2</td>\n      <td>151.5500</td>\n      <td>C</td>\n      <td>S</td>\n    </tr>\n    <tr>\n      <th>2</th>\n      <td>1</td>\n      <td>0</td>\n      <td>0</td>\n      <td>2.0000</td>\n      <td>1</td>\n      <td>2</td>\n      <td>151.5500</td>\n      <td>C</td>\n      <td>S</td>\n    </tr>\n    <tr>\n      <th>3</th>\n      <td>1</td>\n      <td>0</td>\n      <td>1</td>\n      <td>30.0000</td>\n      <td>1</td>\n      <td>2</td>\n      <td>151.5500</td>\n      <td>C</td>\n      <td>S</td>\n    </tr>\n    <tr>\n      <th>4</th>\n      <td>1</td>\n      <td>0</td>\n      <td>0</td>\n      <td>25.0000</td>\n      <td>1</td>\n      <td>2</td>\n      <td>151.5500</td>\n      <td>C</td>\n      <td>S</td>\n    </tr>\n  </tbody>\n</table>\n</div>",
       "datasetInfos": [],
       "metadata": {},
       "removedWidgets": [],
       "textData": null,
       "type": "htmlSandbox"
      }
     },
     "output_type": "display_data"
    }
   ],
   "source": [
    "df.head()"
   ]
  },
  {
   "cell_type": "markdown",
   "metadata": {
    "application/vnd.databricks.v1+cell": {
     "cellMetadata": {
      "byteLimit": 2048000,
      "rowLimit": 10000
     },
     "inputWidgets": {},
     "nuid": "669fa736-660f-4d1f-a1b8-75253465d357",
     "showTitle": false,
     "title": ""
    }
   },
   "source": [
    "## Mutual Information: SKLearn"
   ]
  },
  {
   "cell_type": "code",
   "execution_count": 0,
   "metadata": {
    "application/vnd.databricks.v1+cell": {
     "cellMetadata": {
      "byteLimit": 2048000,
      "rowLimit": 10000
     },
     "inputWidgets": {},
     "nuid": "a42ae8b7-3726-4dd4-8758-49f5407e2284",
     "showTitle": false,
     "title": ""
    }
   },
   "outputs": [
    {
     "output_type": "stream",
     "name": "stdout",
     "output_type": "stream",
     "text": [
      "sklearn's mutual info calculation for survived, fare: 0.137\n"
     ]
    }
   ],
   "source": [
    "sklearn_mutual_info = get_sklearn_mutual_info(df, col1=col1, col2=col2, col1_discrete=False)\n",
    "print(f\"sklearn's mutual info calculation for {col2}, {col1}: {sklearn_mutual_info}\")"
   ]
  },
  {
   "cell_type": "markdown",
   "metadata": {
    "application/vnd.databricks.v1+cell": {
     "cellMetadata": {
      "byteLimit": 2048000,
      "rowLimit": 10000
     },
     "inputWidgets": {},
     "nuid": "ed3fe142-150a-4bca-871d-f718cc1ae77c",
     "showTitle": false,
     "title": ""
    }
   },
   "source": [
    "## Mutual Information: Formula\n",
    "This is not expected to work for Continuous Values. (A contingency table splits out every possible value) Confirming:"
   ]
  },
  {
   "cell_type": "code",
   "execution_count": 0,
   "metadata": {
    "application/vnd.databricks.v1+cell": {
     "cellMetadata": {
      "byteLimit": 2048000,
      "rowLimit": 10000
     },
     "inputWidgets": {},
     "nuid": "56a06a28-f607-457b-8c92-cb385d62b177",
     "showTitle": false,
     "title": ""
    }
   },
   "outputs": [
    {
     "output_type": "stream",
     "name": "stdout",
     "output_type": "stream",
     "text": [
      "                   fare (0.0)   fare (3.1708)   fare (4.0125)   fare (5.0)  \\\n(0) survived               15               0               1            1   \n(1) survived                2               1               0            0   \n(Total) survived           17               1               1            1   \n\n                   fare (6.2375)   fare (6.4375)   fare (6.45)  \\\n(0) survived                   1               3             1   \n(1) survived                   0               0             0   \n(Total) survived               1               3             1   \n\n                   fare (6.4958)   fare (6.75)   fare (6.8583)  ...  \\\n(0) survived                   3             2               1  ...   \n(1) survived                   0             0               0  ...   \n(Total) survived               3             2               1  ...   \n\n                   fare (164.8667)   fare (211.3375)   fare (211.5)  \\\n(0) survived                     1                 0              3   \n(1) survived                     3                 4              2   \n(Total) survived                 4                 4              5   \n\n                   fare (221.7792)   fare (227.525)   fare (247.5208)  \\\n(0) survived                     3                2                 1   \n(1) survived                     1                3                 2   \n(Total) survived                 4                5                 3   \n\n                   fare (262.375)   fare (263.0)   fare (512.3292)  \\\n(0) survived                    1              2                 0   \n(1) survived                    6              4                 4   \n(Total) survived                7              6                 4   \n\n                   fare (Total)  \n(0) survived                808  \n(1) survived                498  \n(Total) survived           1306  \n\n[3 rows x 281 columns]\ncontingency_table rows: survived, columns: fare\nManual Mutual Information: 0.269\nfare\n"
     ]
    }
   ],
   "source": [
    "contingency_table = create_contingency_table(df, col1=col1, col2=col2)\n",
    "manual_mutual_info, summary_df = get_mutual_info_from_contingency_table(contingency_table=contingency_table, col1=col1)\n",
    "print(col1)"
   ]
  },
  {
   "cell_type": "markdown",
   "metadata": {
    "application/vnd.databricks.v1+cell": {
     "cellMetadata": {
      "byteLimit": 2048000,
      "rowLimit": 10000
     },
     "inputWidgets": {},
     "nuid": "13328536-7470-4261-a0ac-17250ca287e4",
     "showTitle": false,
     "title": ""
    }
   },
   "source": [
    "## Iterate all Continuous Columns"
   ]
  },
  {
   "cell_type": "code",
   "execution_count": 0,
   "metadata": {
    "application/vnd.databricks.v1+cell": {
     "cellMetadata": {
      "byteLimit": 2048000,
      "rowLimit": 10000
     },
     "inputWidgets": {},
     "nuid": "fae73a44-fb7f-4aa4-9b25-50345f826e35",
     "showTitle": false,
     "title": ""
    }
   },
   "outputs": [
    {
     "output_type": "display_data",
     "data": {
      "text/html": [
       "<style scoped>\n",
       "  .table-result-container {\n",
       "    max-height: 300px;\n",
       "    overflow: auto;\n",
       "  }\n",
       "  table, th, td {\n",
       "    border: 1px solid black;\n",
       "    border-collapse: collapse;\n",
       "  }\n",
       "  th, td {\n",
       "    padding: 5px;\n",
       "  }\n",
       "  th {\n",
       "    text-align: left;\n",
       "  }\n",
       "</style><div class='table-result-container'><table class='table-result'><thead style='background-color: white'><tr><th>Column</th><th>Unique_Counts</th></tr></thead><tbody><tr><td>pclass</td><td>3</td></tr><tr><td>survived</td><td>2</td></tr><tr><td>sex</td><td>2</td></tr><tr><td>age</td><td>98</td></tr><tr><td>sibsp</td><td>7</td></tr><tr><td>parch</td><td>8</td></tr><tr><td>fare</td><td>280</td></tr><tr><td>cabin</td><td>9</td></tr><tr><td>embarked</td><td>3</td></tr></tbody></table></div>"
      ]
     },
     "metadata": {
      "application/vnd.databricks.v1+output": {
       "addedWidgets": {},
       "aggData": [],
       "aggError": "",
       "aggOverflow": false,
       "aggSchema": [],
       "aggSeriesLimitReached": false,
       "aggType": "",
       "arguments": {},
       "columnCustomDisplayInfos": {},
       "data": [
        [
         "pclass",
         3
        ],
        [
         "survived",
         2
        ],
        [
         "sex",
         2
        ],
        [
         "age",
         98
        ],
        [
         "sibsp",
         7
        ],
        [
         "parch",
         8
        ],
        [
         "fare",
         280
        ],
        [
         "cabin",
         9
        ],
        [
         "embarked",
         3
        ]
       ],
       "datasetInfos": [],
       "dbfsResultPath": null,
       "isJsonSchema": true,
       "metadata": {},
       "overflow": false,
       "plotOptions": {
        "customPlotOptions": {},
        "displayType": "table",
        "pivotAggregation": null,
        "pivotColumns": null,
        "xColumns": null,
        "yColumns": null
       },
       "removedWidgets": [],
       "schema": [
        {
         "metadata": "{}",
         "name": "Column",
         "type": "\"string\""
        },
        {
         "metadata": "{}",
         "name": "Unique_Counts",
         "type": "\"long\""
        }
       ],
       "type": "table"
      }
     },
     "output_type": "display_data"
    }
   ],
   "source": [
    "# check on unique/possible values in a column\n",
    "\n",
    "unique_counts = df.nunique()\n",
    "unique_counts_df = pd.DataFrame({'Column': unique_counts.index, 'Unique_Counts': unique_counts.values})\n",
    "display(unique_counts_df)"
   ]
  },
  {
   "cell_type": "code",
   "execution_count": 0,
   "metadata": {
    "application/vnd.databricks.v1+cell": {
     "cellMetadata": {
      "byteLimit": 2048000,
      "rowLimit": 10000
     },
     "inputWidgets": {},
     "nuid": "413ae580-5703-4063-9a66-0b0e404fb1e7",
     "showTitle": false,
     "title": ""
    }
   },
   "outputs": [
    {
     "output_type": "stream",
     "name": "stdout",
     "output_type": "stream",
     "text": [
      "drop these ['sibsp', 'pclass', 'sex', 'parch', 'cabin', 'embarked'] \nkeep these ['survived', 'age', 'fare']\n"
     ]
    }
   ],
   "source": [
    "### Examine only columns with more than 2 values\n",
    "columns_to_drop_continuous = [col for col in df.columns if len(df[col].unique()) <= 3]\n",
    "\n",
    "### Examine only numerical columns\n",
    "non_numerical_columns = df.select_dtypes(exclude=['float64']).columns.to_list()\n",
    "\n",
    "drop_these = non_numerical_columns + columns_to_drop_continuous\n",
    "drop_these = list(set(drop_these))  # dedup\n",
    "\n",
    "### Keep Response variable in dataframe, even though it only has 2 values\n",
    "if col2 in drop_these:\n",
    "    drop_these.remove(col2)\n",
    "\n",
    "df_continuous_iterate = df.drop(columns=drop_these)\n",
    "cols_continuous_iterate = list(df_continuous_iterate.columns)\n",
    "\n",
    "print(\"drop these\", drop_these, \"\\nkeep these\", cols_continuous_iterate)\n",
    "\n",
    "### Remove the response variable from iterated column list - don't need to run it against itself\n",
    "if col2 in cols_continuous_iterate:\n",
    "    cols_continuous_iterate.remove(col2)"
   ]
  },
  {
   "cell_type": "code",
   "execution_count": 0,
   "metadata": {
    "application/vnd.databricks.v1+cell": {
     "cellMetadata": {
      "byteLimit": 2048000,
      "rowLimit": 10000
     },
     "inputWidgets": {},
     "nuid": "c74efc94-e43e-4fd7-9bd5-1f42f415ca42",
     "showTitle": false,
     "title": ""
    }
   },
   "outputs": [
    {
     "output_type": "stream",
     "name": "stdout",
     "output_type": "stream",
     "text": [
      "working on column age\n                   age (0.1667)   age (0.3333)   age (0.4167)   age (0.6667)  \\\n(0) survived                  0              1              0              0   \n(1) survived                  1              0              1              1   \n(Total) survived              1              1              1              1   \n\n                   age (0.75)   age (0.8333)   age (0.9167)   age (1.0)  \\\n(0) survived                1              0              0           3   \n(1) survived                2              3              2           7   \n(Total) survived            3              3              2          10   \n\n                   age (2.0)   age (3.0)  ...   age (65.0)   age (66.0)  \\\n(0) survived               8           2  ...            3            1   \n(1) survived               4           5  ...            0            0   \n(Total) survived          12           7  ...            3            1   \n\n                   age (67.0)   age (70.0)   age (70.5)   age (71.0)  \\\n(0) survived                1            2            1            2   \n(1) survived                0            0            0            0   \n(Total) survived            1            2            1            2   \n\n                   age (74.0)   age (76.0)   age (80.0)   age (Total)  \n(0) survived                1            0            0           808  \n(1) survived                0            1            1           498  \n(Total) survived            1            1            1          1306  \n\n[3 rows x 99 columns]\ncontingency_table rows: survived, columns: age\nManual Mutual Information: 0.064\nworking on column fare\n                   fare (0.0)   fare (3.1708)   fare (4.0125)   fare (5.0)  \\\n(0) survived               15               0               1            1   \n(1) survived                2               1               0            0   \n(Total) survived           17               1               1            1   \n\n                   fare (6.2375)   fare (6.4375)   fare (6.45)  \\\n(0) survived                   1               3             1   \n(1) survived                   0               0             0   \n(Total) survived               1               3             1   \n\n                   fare (6.4958)   fare (6.75)   fare (6.8583)  ...  \\\n(0) survived                   3             2               1  ...   \n(1) survived                   0             0               0  ...   \n(Total) survived               3             2               1  ...   \n\n                   fare (164.8667)   fare (211.3375)   fare (211.5)  \\\n(0) survived                     1                 0              3   \n(1) survived                     3                 4              2   \n(Total) survived                 4                 4              5   \n\n                   fare (221.7792)   fare (227.525)   fare (247.5208)  \\\n(0) survived                     3                2                 1   \n(1) survived                     1                3                 2   \n(Total) survived                 4                5                 3   \n\n                   fare (262.375)   fare (263.0)   fare (512.3292)  \\\n(0) survived                    1              2                 0   \n(1) survived                    6              4                 4   \n(Total) survived                7              6                 4   \n\n                   fare (Total)  \n(0) survived                808  \n(1) survived                498  \n(Total) survived           1306  \n\n[3 rows x 281 columns]\ncontingency_table rows: survived, columns: fare\nManual Mutual Information: 0.269\n"
     ]
    },
    {
     "output_type": "display_data",
     "data": {
      "text/html": [
       "<style scoped>\n",
       "  .table-result-container {\n",
       "    max-height: 300px;\n",
       "    overflow: auto;\n",
       "  }\n",
       "  table, th, td {\n",
       "    border: 1px solid black;\n",
       "    border-collapse: collapse;\n",
       "  }\n",
       "  th, td {\n",
       "    padding: 5px;\n",
       "  }\n",
       "  th {\n",
       "    text-align: left;\n",
       "  }\n",
       "</style><div class='table-result-container'><table class='table-result'><thead style='background-color: white'><tr><th>Response</th><th>Feature</th><th>manual_mutual_info</th><th>sklearn_mutual_info</th></tr></thead><tbody><tr><td>survived</td><td>fare</td><td>0.269</td><td>0.129</td></tr><tr><td>survived</td><td>age</td><td>0.064</td><td>0.014</td></tr></tbody></table></div>"
      ]
     },
     "metadata": {
      "application/vnd.databricks.v1+output": {
       "addedWidgets": {},
       "aggData": [],
       "aggError": "",
       "aggOverflow": false,
       "aggSchema": [],
       "aggSeriesLimitReached": false,
       "aggType": "",
       "arguments": {},
       "columnCustomDisplayInfos": {},
       "data": [
        [
         "survived",
         "fare",
         0.269,
         0.129
        ],
        [
         "survived",
         "age",
         0.064,
         0.014
        ]
       ],
       "datasetInfos": [],
       "dbfsResultPath": null,
       "isJsonSchema": true,
       "metadata": {},
       "overflow": false,
       "plotOptions": {
        "customPlotOptions": {},
        "displayType": "table",
        "pivotAggregation": null,
        "pivotColumns": null,
        "xColumns": null,
        "yColumns": null
       },
       "removedWidgets": [],
       "schema": [
        {
         "metadata": "{}",
         "name": "Response",
         "type": "\"string\""
        },
        {
         "metadata": "{}",
         "name": "Feature",
         "type": "\"string\""
        },
        {
         "metadata": "{}",
         "name": "manual_mutual_info",
         "type": "\"double\""
        },
        {
         "metadata": "{}",
         "name": "sklearn_mutual_info",
         "type": "\"double\""
        }
       ],
       "type": "table"
      }
     },
     "output_type": "display_data"
    }
   ],
   "source": [
    "### Iterate thru all Continuous Columns getting Mutual Info with col2 (response variable - set in Mutual Info section)\n",
    "\n",
    "mutual_info_summary_continuous = pd.DataFrame(columns=['Response', 'Feature', 'manual_mutual_info', 'sklearn_mutual_info'])\n",
    "\n",
    "for col1 in cols_continuous_iterate:\n",
    "    print(f\"working on column {col1}\")\n",
    "    manual_mutual_info_value, summary_df = get_mutual_info_from_contingency_table(create_contingency_table(df_continuous_iterate, col1=col1, col2=col2))\n",
    "\n",
    "    sklearn_mutual_info_value = get_sklearn_mutual_info(df, col1=col1, col2=col2, col1_discrete=False)\n",
    "    mutual_info_summary_continuous = mutual_info_summary_continuous.append({\n",
    "        'Feature': col1,\n",
    "        'Response': col2,\n",
    "        'manual_mutual_info': manual_mutual_info_value,\n",
    "        'sklearn_mutual_info': sklearn_mutual_info_value,\n",
    "        }, ignore_index=True).sort_values(by='sklearn_mutual_info', ascending=False)\n",
    "\n",
    "display(mutual_info_summary_continuous)\n"
   ]
  },
  {
   "cell_type": "markdown",
   "metadata": {
    "application/vnd.databricks.v1+cell": {
     "cellMetadata": {
      "byteLimit": 2048000,
      "rowLimit": 10000
     },
     "inputWidgets": {},
     "nuid": "5ffcc90b-5010-4218-95b1-c8730d2efe0e",
     "showTitle": false,
     "title": ""
    }
   },
   "source": [
    "## Result: Use SKLearn for Continuous variables\n"
   ]
  },
  {
   "cell_type": "markdown",
   "metadata": {
    "application/vnd.databricks.v1+cell": {
     "cellMetadata": {
      "byteLimit": 2048000,
      "rowLimit": 10000
     },
     "inputWidgets": {},
     "nuid": "4a6bce07-ead9-491d-83e1-130e9e20f0bc",
     "showTitle": false,
     "title": ""
    }
   },
   "source": [
    "# Mutual Information For Discrete Data (non-binary)"
   ]
  },
  {
   "cell_type": "markdown",
   "metadata": {
    "application/vnd.databricks.v1+cell": {
     "cellMetadata": {
      "byteLimit": 2048000,
      "rowLimit": 10000
     },
     "inputWidgets": {},
     "nuid": "47fc0760-bed1-4613-9897-ac80d7216541",
     "showTitle": false,
     "title": ""
    }
   },
   "source": [
    "Setting up a test to confirm we can't just \"throw in\" Ordinal or Categorical data into a Mutual Information formula. SKlearn's mutual_info_classif package's setting of `discrete_values=True` seems to really mean `binary_values`. \n",
    "\n",
    "Here we input two ordinal columns `sibsp` and `parch` in the test data, each having values 0-8. We also tried a categorical columns `cabin` and `embarked`, each having categorical string data like `B` or `C` , but sklearn didnt not convert string to float"
   ]
  },
  {
   "cell_type": "code",
   "execution_count": 0,
   "metadata": {
    "application/vnd.databricks.v1+cell": {
     "cellMetadata": {
      "byteLimit": 2048000,
      "rowLimit": 10000
     },
     "inputWidgets": {},
     "nuid": "02179737-548b-421b-b508-1695bf61d269",
     "showTitle": false,
     "title": ""
    }
   },
   "outputs": [
    {
     "output_type": "stream",
     "name": "stdout",
     "output_type": "stream",
     "text": [
      "Use Test Data? True\nbefore cleanup there are 1309 rows\n"
     ]
    }
   ],
   "source": [
    "### This will overwrite earlier selections. Choose here for Discrete (non-binary) section:\n",
    "### To make coding easer, standardize either input as \"df\", and choose columns.\n",
    "### Make sure to set the response variable as col2 - important later when we loop through all columns\n",
    "print(f\"Use Test Data? {use_test_data}\")\n",
    "if use_test_data:\n",
    "    data = generate_test_data()\n",
    "    df = data.copy()\n",
    "    col1='parch'     # Discrete Values\n",
    "    col2='survived'\n",
    "else:\n",
    "    df = df_binary.copy()\n",
    "    col1='is_churn_logo_lost' # 'is_churn_downgrade'\n",
    "    col2='is_churn'\n"
   ]
  },
  {
   "cell_type": "code",
   "execution_count": 0,
   "metadata": {
    "application/vnd.databricks.v1+cell": {
     "cellMetadata": {
      "byteLimit": 2048000,
      "rowLimit": 10000
     },
     "inputWidgets": {},
     "nuid": "41266d88-fb84-422f-89f0-a45068c509fc",
     "showTitle": false,
     "title": ""
    }
   },
   "outputs": [
    {
     "output_type": "display_data",
     "data": {
      "text/html": [
       "<div>\n",
       "<style scoped>\n",
       "    .dataframe tbody tr th:only-of-type {\n",
       "        vertical-align: middle;\n",
       "    }\n",
       "\n",
       "    .dataframe tbody tr th {\n",
       "        vertical-align: top;\n",
       "    }\n",
       "\n",
       "    .dataframe thead th {\n",
       "        text-align: right;\n",
       "    }\n",
       "</style>\n",
       "<table border=\"1\" class=\"dataframe\">\n",
       "  <thead>\n",
       "    <tr style=\"text-align: right;\">\n",
       "      <th></th>\n",
       "      <th>pclass</th>\n",
       "      <th>survived</th>\n",
       "      <th>sex</th>\n",
       "      <th>age</th>\n",
       "      <th>sibsp</th>\n",
       "      <th>parch</th>\n",
       "      <th>fare</th>\n",
       "      <th>cabin</th>\n",
       "      <th>embarked</th>\n",
       "    </tr>\n",
       "  </thead>\n",
       "  <tbody>\n",
       "    <tr>\n",
       "      <th>0</th>\n",
       "      <td>1</td>\n",
       "      <td>1</td>\n",
       "      <td>0</td>\n",
       "      <td>29.0000</td>\n",
       "      <td>0</td>\n",
       "      <td>0</td>\n",
       "      <td>211.3375</td>\n",
       "      <td>B</td>\n",
       "      <td>S</td>\n",
       "    </tr>\n",
       "    <tr>\n",
       "      <th>1</th>\n",
       "      <td>1</td>\n",
       "      <td>1</td>\n",
       "      <td>1</td>\n",
       "      <td>0.9167</td>\n",
       "      <td>1</td>\n",
       "      <td>2</td>\n",
       "      <td>151.5500</td>\n",
       "      <td>C</td>\n",
       "      <td>S</td>\n",
       "    </tr>\n",
       "    <tr>\n",
       "      <th>2</th>\n",
       "      <td>1</td>\n",
       "      <td>0</td>\n",
       "      <td>0</td>\n",
       "      <td>2.0000</td>\n",
       "      <td>1</td>\n",
       "      <td>2</td>\n",
       "      <td>151.5500</td>\n",
       "      <td>C</td>\n",
       "      <td>S</td>\n",
       "    </tr>\n",
       "    <tr>\n",
       "      <th>3</th>\n",
       "      <td>1</td>\n",
       "      <td>0</td>\n",
       "      <td>1</td>\n",
       "      <td>30.0000</td>\n",
       "      <td>1</td>\n",
       "      <td>2</td>\n",
       "      <td>151.5500</td>\n",
       "      <td>C</td>\n",
       "      <td>S</td>\n",
       "    </tr>\n",
       "    <tr>\n",
       "      <th>4</th>\n",
       "      <td>1</td>\n",
       "      <td>0</td>\n",
       "      <td>0</td>\n",
       "      <td>25.0000</td>\n",
       "      <td>1</td>\n",
       "      <td>2</td>\n",
       "      <td>151.5500</td>\n",
       "      <td>C</td>\n",
       "      <td>S</td>\n",
       "    </tr>\n",
       "  </tbody>\n",
       "</table>\n",
       "</div>"
      ]
     },
     "metadata": {
      "application/vnd.databricks.v1+output": {
       "addedWidgets": {},
       "arguments": {},
       "data": "<div>\n<style scoped>\n    .dataframe tbody tr th:only-of-type {\n        vertical-align: middle;\n    }\n\n    .dataframe tbody tr th {\n        vertical-align: top;\n    }\n\n    .dataframe thead th {\n        text-align: right;\n    }\n</style>\n<table border=\"1\" class=\"dataframe\">\n  <thead>\n    <tr style=\"text-align: right;\">\n      <th></th>\n      <th>pclass</th>\n      <th>survived</th>\n      <th>sex</th>\n      <th>age</th>\n      <th>sibsp</th>\n      <th>parch</th>\n      <th>fare</th>\n      <th>cabin</th>\n      <th>embarked</th>\n    </tr>\n  </thead>\n  <tbody>\n    <tr>\n      <th>0</th>\n      <td>1</td>\n      <td>1</td>\n      <td>0</td>\n      <td>29.0000</td>\n      <td>0</td>\n      <td>0</td>\n      <td>211.3375</td>\n      <td>B</td>\n      <td>S</td>\n    </tr>\n    <tr>\n      <th>1</th>\n      <td>1</td>\n      <td>1</td>\n      <td>1</td>\n      <td>0.9167</td>\n      <td>1</td>\n      <td>2</td>\n      <td>151.5500</td>\n      <td>C</td>\n      <td>S</td>\n    </tr>\n    <tr>\n      <th>2</th>\n      <td>1</td>\n      <td>0</td>\n      <td>0</td>\n      <td>2.0000</td>\n      <td>1</td>\n      <td>2</td>\n      <td>151.5500</td>\n      <td>C</td>\n      <td>S</td>\n    </tr>\n    <tr>\n      <th>3</th>\n      <td>1</td>\n      <td>0</td>\n      <td>1</td>\n      <td>30.0000</td>\n      <td>1</td>\n      <td>2</td>\n      <td>151.5500</td>\n      <td>C</td>\n      <td>S</td>\n    </tr>\n    <tr>\n      <th>4</th>\n      <td>1</td>\n      <td>0</td>\n      <td>0</td>\n      <td>25.0000</td>\n      <td>1</td>\n      <td>2</td>\n      <td>151.5500</td>\n      <td>C</td>\n      <td>S</td>\n    </tr>\n  </tbody>\n</table>\n</div>",
       "datasetInfos": [],
       "metadata": {},
       "removedWidgets": [],
       "textData": null,
       "type": "htmlSandbox"
      }
     },
     "output_type": "display_data"
    }
   ],
   "source": [
    "df.head()"
   ]
  },
  {
   "cell_type": "markdown",
   "metadata": {
    "application/vnd.databricks.v1+cell": {
     "cellMetadata": {
      "byteLimit": 2048000,
      "rowLimit": 10000
     },
     "inputWidgets": {},
     "nuid": "bc60dae1-2a34-4a9a-a4a5-100df39a33d0",
     "showTitle": false,
     "title": ""
    }
   },
   "source": [
    "## Mutual Information: SKLearn"
   ]
  },
  {
   "cell_type": "code",
   "execution_count": 0,
   "metadata": {
    "application/vnd.databricks.v1+cell": {
     "cellMetadata": {
      "byteLimit": 2048000,
      "rowLimit": 10000
     },
     "inputWidgets": {},
     "nuid": "058d266a-3763-4079-a3ad-2fd872e22150",
     "showTitle": false,
     "title": ""
    }
   },
   "outputs": [
    {
     "output_type": "stream",
     "name": "stdout",
     "output_type": "stream",
     "text": [
      "sklearn's mutual info calculation for survived, parch: 0\n"
     ]
    }
   ],
   "source": [
    "sklearn_mutual_info = get_sklearn_mutual_info(df, col1=col1, col2=col2, col1_discrete=False)\n",
    "print(f\"sklearn's mutual info calculation for {col2}, {col1}: {sklearn_mutual_info}\")"
   ]
  },
  {
   "cell_type": "markdown",
   "metadata": {
    "application/vnd.databricks.v1+cell": {
     "cellMetadata": {
      "byteLimit": 2048000,
      "rowLimit": 10000
     },
     "inputWidgets": {},
     "nuid": "785b4fd5-b2cd-459c-b312-4a88fb8d8b05",
     "showTitle": false,
     "title": ""
    }
   },
   "source": [
    "## Mutual Information: Formula"
   ]
  },
  {
   "cell_type": "code",
   "execution_count": 0,
   "metadata": {
    "application/vnd.databricks.v1+cell": {
     "cellMetadata": {
      "byteLimit": 2048000,
      "rowLimit": 10000
     },
     "inputWidgets": {},
     "nuid": "dc87ba18-85e0-4e5d-a7e9-8609346d8beb",
     "showTitle": false,
     "title": ""
    }
   },
   "outputs": [
    {
     "output_type": "stream",
     "name": "stdout",
     "output_type": "stream",
     "text": [
      "                   parch (0)   parch (1)   parch (2)   parch (3)   parch (4)  \\\n(0) survived             665          70          56           3           5   \n(1) survived             334         100          57           5           1   \n(Total) survived         999         170         113           8           6   \n\n                   parch (5)   parch (6)   parch (9)   parch (Total)  \n(0) survived               5           2           2             808  \n(1) survived               1           0           0             498  \n(Total) survived           6           2           2            1306  \ncontingency_table rows: survived, columns: parch\nManual Mutual Information: 0.021\nparch\n"
     ]
    }
   ],
   "source": [
    "contingency_table = create_contingency_table(df, col1=col1, col2=col2)\n",
    "manual_mutual_info, summary_df = get_mutual_info_from_contingency_table(contingency_table=contingency_table, col1=col1)\n",
    "print(col1)"
   ]
  },
  {
   "cell_type": "markdown",
   "metadata": {
    "application/vnd.databricks.v1+cell": {
     "cellMetadata": {
      "byteLimit": 2048000,
      "rowLimit": 10000
     },
     "inputWidgets": {},
     "nuid": "1a7b1edf-210f-4d53-bad3-d3820f424404",
     "showTitle": false,
     "title": ""
    }
   },
   "source": [
    "## Iterate all Discrete Columns"
   ]
  },
  {
   "cell_type": "code",
   "execution_count": 0,
   "metadata": {
    "application/vnd.databricks.v1+cell": {
     "cellMetadata": {
      "byteLimit": 2048000,
      "rowLimit": 10000
     },
     "inputWidgets": {},
     "nuid": "5441d0f1-2776-490c-b2ae-d30c6b6a720b",
     "showTitle": false,
     "title": ""
    }
   },
   "outputs": [
    {
     "output_type": "display_data",
     "data": {
      "text/html": [
       "<style scoped>\n",
       "  .table-result-container {\n",
       "    max-height: 300px;\n",
       "    overflow: auto;\n",
       "  }\n",
       "  table, th, td {\n",
       "    border: 1px solid black;\n",
       "    border-collapse: collapse;\n",
       "  }\n",
       "  th, td {\n",
       "    padding: 5px;\n",
       "  }\n",
       "  th {\n",
       "    text-align: left;\n",
       "  }\n",
       "</style><div class='table-result-container'><table class='table-result'><thead style='background-color: white'><tr><th>Column</th><th>Unique_Counts</th></tr></thead><tbody><tr><td>pclass</td><td>3</td></tr><tr><td>survived</td><td>2</td></tr><tr><td>sex</td><td>2</td></tr><tr><td>age</td><td>98</td></tr><tr><td>sibsp</td><td>7</td></tr><tr><td>parch</td><td>8</td></tr><tr><td>fare</td><td>280</td></tr><tr><td>cabin</td><td>9</td></tr><tr><td>embarked</td><td>3</td></tr></tbody></table></div>"
      ]
     },
     "metadata": {
      "application/vnd.databricks.v1+output": {
       "addedWidgets": {},
       "aggData": [],
       "aggError": "",
       "aggOverflow": false,
       "aggSchema": [],
       "aggSeriesLimitReached": false,
       "aggType": "",
       "arguments": {},
       "columnCustomDisplayInfos": {},
       "data": [
        [
         "pclass",
         3
        ],
        [
         "survived",
         2
        ],
        [
         "sex",
         2
        ],
        [
         "age",
         98
        ],
        [
         "sibsp",
         7
        ],
        [
         "parch",
         8
        ],
        [
         "fare",
         280
        ],
        [
         "cabin",
         9
        ],
        [
         "embarked",
         3
        ]
       ],
       "datasetInfos": [],
       "dbfsResultPath": null,
       "isJsonSchema": true,
       "metadata": {},
       "overflow": false,
       "plotOptions": {
        "customPlotOptions": {},
        "displayType": "table",
        "pivotAggregation": null,
        "pivotColumns": null,
        "xColumns": null,
        "yColumns": null
       },
       "removedWidgets": [],
       "schema": [
        {
         "metadata": "{}",
         "name": "Column",
         "type": "\"string\""
        },
        {
         "metadata": "{}",
         "name": "Unique_Counts",
         "type": "\"long\""
        }
       ],
       "type": "table"
      }
     },
     "output_type": "display_data"
    }
   ],
   "source": [
    "# check on unique/possible values in a column\n",
    "unique_counts = df.nunique()\n",
    "unique_counts_df = pd.DataFrame({'Column': unique_counts.index, 'Unique_Counts': unique_counts.values})\n",
    "display(unique_counts_df)"
   ]
  },
  {
   "cell_type": "code",
   "execution_count": 0,
   "metadata": {
    "application/vnd.databricks.v1+cell": {
     "cellMetadata": {
      "byteLimit": 2048000,
      "rowLimit": 10000
     },
     "inputWidgets": {},
     "nuid": "d41a376a-0f94-4a3e-9517-2099950f553d",
     "showTitle": false,
     "title": ""
    }
   },
   "outputs": [
    {
     "output_type": "stream",
     "name": "stdout",
     "output_type": "stream",
     "text": [
      "Out[40]: pclass        int64\nsurvived      int64\nsex           int64\nage         float64\nsibsp         int64\nparch         int64\nfare        float64\ncabin        object\nembarked     object\ndtype: object"
     ]
    }
   ],
   "source": [
    "df.dtypes"
   ]
  },
  {
   "cell_type": "code",
   "execution_count": 0,
   "metadata": {
    "application/vnd.databricks.v1+cell": {
     "cellMetadata": {
      "byteLimit": 2048000,
      "rowLimit": 10000
     },
     "inputWidgets": {},
     "nuid": "729a9730-77db-4c7d-93f2-a728ffea626d",
     "showTitle": false,
     "title": ""
    }
   },
   "outputs": [
    {
     "output_type": "stream",
     "name": "stdout",
     "output_type": "stream",
     "text": [
      "drop these ['fare', 'age', 'pclass', 'sex', 'cabin', 'embarked']\n['sibsp', 'parch']\n"
     ]
    }
   ],
   "source": [
    "### Examine only int64 columns (ignore strings and floats)\n",
    "non_numerical_columns = df.select_dtypes(exclude=['int64']).columns.to_list()\n",
    "\n",
    "### Examine only columns with more than 2 values\n",
    "columns_to_drop_discrete = [col for col in df.columns if len(df[col].unique()) <= 3]\n",
    "\n",
    "drop_these = non_numerical_columns + columns_to_drop_discrete\n",
    "drop_these = list(set(drop_these))  # dedup\n",
    "\n",
    "### Keep Response variable in dataframe, even though it only has 2 values\n",
    "if col2 in drop_these:\n",
    "    drop_these.remove(col2)\n",
    "print(\"drop these\", drop_these)\n",
    "\n",
    "df_discrete_iterate = df.drop(columns=drop_these)\n",
    "cols_discrete_iterate = list(df_discrete_iterate.columns)\n",
    "\n",
    "### Remove the response variable from iterated column list - don't need to run it against itself\n",
    "if col2 in cols_discrete_iterate:\n",
    "    cols_discrete_iterate.remove(col2)\n",
    "print(cols_discrete_iterate)"
   ]
  },
  {
   "cell_type": "code",
   "execution_count": 0,
   "metadata": {
    "application/vnd.databricks.v1+cell": {
     "cellMetadata": {
      "byteLimit": 2048000,
      "rowLimit": 10000
     },
     "inputWidgets": {},
     "nuid": "f01d9058-531d-4374-9ed5-ced3a4aa358b",
     "showTitle": false,
     "title": ""
    }
   },
   "outputs": [
    {
     "output_type": "stream",
     "name": "stdout",
     "output_type": "stream",
     "text": [
      "working on column sibsp\n                   sibsp (0)   sibsp (1)   sibsp (2)   sibsp (3)   sibsp (4)  \\\n(0) survived             581         156          23          14          19   \n(1) survived             307         163          19           6           3   \n(Total) survived         888         319          42          20          22   \n\n                   sibsp (5)   sibsp (8)   sibsp (Total)  \n(0) survived               6           9             808  \n(1) survived               0           0             498  \n(Total) survived           6           9            1306  \ncontingency_table rows: survived, columns: sibsp\nManual Mutual Information: 0.019\nworking on column parch\n                   parch (0)   parch (1)   parch (2)   parch (3)   parch (4)  \\\n(0) survived             665          70          56           3           5   \n(1) survived             334         100          57           5           1   \n(Total) survived         999         170         113           8           6   \n\n                   parch (5)   parch (6)   parch (9)   parch (Total)  \n(0) survived               5           2           2             808  \n(1) survived               1           0           0             498  \n(Total) survived           6           2           2            1306  \ncontingency_table rows: survived, columns: parch\nManual Mutual Information: 0.021\n"
     ]
    },
    {
     "output_type": "display_data",
     "data": {
      "text/html": [
       "<style scoped>\n",
       "  .table-result-container {\n",
       "    max-height: 300px;\n",
       "    overflow: auto;\n",
       "  }\n",
       "  table, th, td {\n",
       "    border: 1px solid black;\n",
       "    border-collapse: collapse;\n",
       "  }\n",
       "  th, td {\n",
       "    padding: 5px;\n",
       "  }\n",
       "  th {\n",
       "    text-align: left;\n",
       "  }\n",
       "</style><div class='table-result-container'><table class='table-result'><thead style='background-color: white'><tr><th>Response</th><th>Feature</th><th>manual_mutual_info</th><th>sklearn_mutual_info</th></tr></thead><tbody><tr><td>survived</td><td>parch</td><td>0.021</td><td>0.021</td></tr><tr><td>survived</td><td>sibsp</td><td>0.019</td><td>0.019</td></tr></tbody></table></div>"
      ]
     },
     "metadata": {
      "application/vnd.databricks.v1+output": {
       "addedWidgets": {},
       "aggData": [],
       "aggError": "",
       "aggOverflow": false,
       "aggSchema": [],
       "aggSeriesLimitReached": false,
       "aggType": "",
       "arguments": {},
       "columnCustomDisplayInfos": {},
       "data": [
        [
         "survived",
         "parch",
         0.021,
         0.021
        ],
        [
         "survived",
         "sibsp",
         0.019,
         0.019
        ]
       ],
       "datasetInfos": [],
       "dbfsResultPath": null,
       "isJsonSchema": true,
       "metadata": {},
       "overflow": false,
       "plotOptions": {
        "customPlotOptions": {},
        "displayType": "table",
        "pivotAggregation": null,
        "pivotColumns": null,
        "xColumns": null,
        "yColumns": null
       },
       "removedWidgets": [],
       "schema": [
        {
         "metadata": "{}",
         "name": "Response",
         "type": "\"string\""
        },
        {
         "metadata": "{}",
         "name": "Feature",
         "type": "\"string\""
        },
        {
         "metadata": "{}",
         "name": "manual_mutual_info",
         "type": "\"double\""
        },
        {
         "metadata": "{}",
         "name": "sklearn_mutual_info",
         "type": "\"double\""
        }
       ],
       "type": "table"
      }
     },
     "output_type": "display_data"
    }
   ],
   "source": [
    "### Iterate thru all discrete Columns getting Mutual Info with col2 (response variable - set in Mutual Info section)\n",
    "\n",
    "mutual_info_summary_discrete = pd.DataFrame(columns=['Response', 'Feature', 'manual_mutual_info', 'sklearn_mutual_info'])\n",
    "\n",
    "for col1 in cols_discrete_iterate:\n",
    "    print(f\"working on column {col1}\")\n",
    "    manual_mutual_info_value, summary_df = get_mutual_info_from_contingency_table(create_contingency_table(df_discrete_iterate, col1=col1, col2=col2))\n",
    "\n",
    "    sklearn_mutual_info_value = get_sklearn_mutual_info(df, col1=col1, col2=col2, col1_discrete=True)\n",
    "    mutual_info_summary_discrete = mutual_info_summary_discrete.append({\n",
    "        'Feature': col1,\n",
    "        'Response': col2,\n",
    "        'manual_mutual_info': manual_mutual_info_value,\n",
    "        'sklearn_mutual_info': sklearn_mutual_info_value,\n",
    "        }, ignore_index=True).sort_values(by='sklearn_mutual_info', ascending=False)\n",
    "\n",
    "display(mutual_info_summary_discrete)\n"
   ]
  },
  {
   "cell_type": "markdown",
   "metadata": {
    "application/vnd.databricks.v1+cell": {
     "cellMetadata": {
      "byteLimit": 2048000,
      "rowLimit": 10000
     },
     "inputWidgets": {},
     "nuid": "08201656-99d2-461c-b7c2-a5e7ccc83394",
     "showTitle": false,
     "title": ""
    }
   },
   "source": [
    "## Result: Discrete (non-binary) Variables are treated as Continuous \n",
    "When applied to Discrete (but not Binary) values, SkLearn's mutual_info_classif implementation returns null if specified parameter discrete_features=[True].\n"
   ]
  },
  {
   "cell_type": "markdown",
   "metadata": {
    "application/vnd.databricks.v1+cell": {
     "cellMetadata": {
      "byteLimit": 2048000,
      "rowLimit": 10000
     },
     "inputWidgets": {},
     "nuid": "d94afd1a-7a86-45d3-a17b-d0ef803b24a5",
     "showTitle": false,
     "title": ""
    }
   },
   "source": [
    "# Mutual Information after One Hot Encoding"
   ]
  },
  {
   "cell_type": "markdown",
   "metadata": {
    "application/vnd.databricks.v1+cell": {
     "cellMetadata": {
      "byteLimit": 2048000,
      "rowLimit": 10000
     },
     "inputWidgets": {},
     "nuid": "83e27563-30b5-4948-aead-09bbf244d16d",
     "showTitle": false,
     "title": ""
    }
   },
   "source": [
    "To alleviate above concern we will convert our ordinal or categorical columns to One Hot Encoding"
   ]
  },
  {
   "cell_type": "code",
   "execution_count": 0,
   "metadata": {
    "application/vnd.databricks.v1+cell": {
     "cellMetadata": {
      "byteLimit": 2048000,
      "rowLimit": 10000
     },
     "inputWidgets": {},
     "nuid": "bdf29e97-2ec0-4961-8888-0ca6cd8c9e18",
     "showTitle": false,
     "title": ""
    }
   },
   "outputs": [
    {
     "output_type": "stream",
     "name": "stdout",
     "output_type": "stream",
     "text": [
      "Use Test Data? True\nbefore cleanup there are 1309 rows\n"
     ]
    }
   ],
   "source": [
    "### This will overwrite earlier selections. Choose here for Discrete (non-binary) section:\n",
    "### To make coding easer, standardize either input as \"df\", and choose columns.\n",
    "### Make sure to set the response variable as col2 - important later when we loop through all columns\n",
    "print(f\"Use Test Data? {use_test_data}\")\n",
    "if use_test_data:\n",
    "    data = generate_test_data()\n",
    "    df = data.copy()\n",
    "    col1='cabin'     # Categorical Values\n",
    "    col2='survived'\n",
    "else:\n",
    "    df = df_binary.copy()\n",
    "    col1='is_churn_logo_lost' # 'is_churn_downgrade'\n",
    "    col2='is_churn'"
   ]
  },
  {
   "cell_type": "code",
   "execution_count": 0,
   "metadata": {
    "application/vnd.databricks.v1+cell": {
     "cellMetadata": {
      "byteLimit": 2048000,
      "rowLimit": 10000
     },
     "inputWidgets": {},
     "nuid": "5fcf710e-9918-4084-984b-2ca779b106c4",
     "showTitle": false,
     "title": ""
    }
   },
   "outputs": [
    {
     "output_type": "display_data",
     "data": {
      "text/html": [
       "<div>\n",
       "<style scoped>\n",
       "    .dataframe tbody tr th:only-of-type {\n",
       "        vertical-align: middle;\n",
       "    }\n",
       "\n",
       "    .dataframe tbody tr th {\n",
       "        vertical-align: top;\n",
       "    }\n",
       "\n",
       "    .dataframe thead th {\n",
       "        text-align: right;\n",
       "    }\n",
       "</style>\n",
       "<table border=\"1\" class=\"dataframe\">\n",
       "  <thead>\n",
       "    <tr style=\"text-align: right;\">\n",
       "      <th></th>\n",
       "      <th>pclass</th>\n",
       "      <th>survived</th>\n",
       "      <th>sex</th>\n",
       "      <th>age</th>\n",
       "      <th>sibsp</th>\n",
       "      <th>parch</th>\n",
       "      <th>fare</th>\n",
       "      <th>cabin</th>\n",
       "      <th>embarked</th>\n",
       "    </tr>\n",
       "  </thead>\n",
       "  <tbody>\n",
       "    <tr>\n",
       "      <th>0</th>\n",
       "      <td>1</td>\n",
       "      <td>1</td>\n",
       "      <td>0</td>\n",
       "      <td>29.0000</td>\n",
       "      <td>0</td>\n",
       "      <td>0</td>\n",
       "      <td>211.3375</td>\n",
       "      <td>B</td>\n",
       "      <td>S</td>\n",
       "    </tr>\n",
       "    <tr>\n",
       "      <th>1</th>\n",
       "      <td>1</td>\n",
       "      <td>1</td>\n",
       "      <td>1</td>\n",
       "      <td>0.9167</td>\n",
       "      <td>1</td>\n",
       "      <td>2</td>\n",
       "      <td>151.5500</td>\n",
       "      <td>C</td>\n",
       "      <td>S</td>\n",
       "    </tr>\n",
       "    <tr>\n",
       "      <th>2</th>\n",
       "      <td>1</td>\n",
       "      <td>0</td>\n",
       "      <td>0</td>\n",
       "      <td>2.0000</td>\n",
       "      <td>1</td>\n",
       "      <td>2</td>\n",
       "      <td>151.5500</td>\n",
       "      <td>C</td>\n",
       "      <td>S</td>\n",
       "    </tr>\n",
       "    <tr>\n",
       "      <th>3</th>\n",
       "      <td>1</td>\n",
       "      <td>0</td>\n",
       "      <td>1</td>\n",
       "      <td>30.0000</td>\n",
       "      <td>1</td>\n",
       "      <td>2</td>\n",
       "      <td>151.5500</td>\n",
       "      <td>C</td>\n",
       "      <td>S</td>\n",
       "    </tr>\n",
       "    <tr>\n",
       "      <th>4</th>\n",
       "      <td>1</td>\n",
       "      <td>0</td>\n",
       "      <td>0</td>\n",
       "      <td>25.0000</td>\n",
       "      <td>1</td>\n",
       "      <td>2</td>\n",
       "      <td>151.5500</td>\n",
       "      <td>C</td>\n",
       "      <td>S</td>\n",
       "    </tr>\n",
       "  </tbody>\n",
       "</table>\n",
       "</div>"
      ]
     },
     "metadata": {
      "application/vnd.databricks.v1+output": {
       "addedWidgets": {},
       "arguments": {},
       "data": "<div>\n<style scoped>\n    .dataframe tbody tr th:only-of-type {\n        vertical-align: middle;\n    }\n\n    .dataframe tbody tr th {\n        vertical-align: top;\n    }\n\n    .dataframe thead th {\n        text-align: right;\n    }\n</style>\n<table border=\"1\" class=\"dataframe\">\n  <thead>\n    <tr style=\"text-align: right;\">\n      <th></th>\n      <th>pclass</th>\n      <th>survived</th>\n      <th>sex</th>\n      <th>age</th>\n      <th>sibsp</th>\n      <th>parch</th>\n      <th>fare</th>\n      <th>cabin</th>\n      <th>embarked</th>\n    </tr>\n  </thead>\n  <tbody>\n    <tr>\n      <th>0</th>\n      <td>1</td>\n      <td>1</td>\n      <td>0</td>\n      <td>29.0000</td>\n      <td>0</td>\n      <td>0</td>\n      <td>211.3375</td>\n      <td>B</td>\n      <td>S</td>\n    </tr>\n    <tr>\n      <th>1</th>\n      <td>1</td>\n      <td>1</td>\n      <td>1</td>\n      <td>0.9167</td>\n      <td>1</td>\n      <td>2</td>\n      <td>151.5500</td>\n      <td>C</td>\n      <td>S</td>\n    </tr>\n    <tr>\n      <th>2</th>\n      <td>1</td>\n      <td>0</td>\n      <td>0</td>\n      <td>2.0000</td>\n      <td>1</td>\n      <td>2</td>\n      <td>151.5500</td>\n      <td>C</td>\n      <td>S</td>\n    </tr>\n    <tr>\n      <th>3</th>\n      <td>1</td>\n      <td>0</td>\n      <td>1</td>\n      <td>30.0000</td>\n      <td>1</td>\n      <td>2</td>\n      <td>151.5500</td>\n      <td>C</td>\n      <td>S</td>\n    </tr>\n    <tr>\n      <th>4</th>\n      <td>1</td>\n      <td>0</td>\n      <td>0</td>\n      <td>25.0000</td>\n      <td>1</td>\n      <td>2</td>\n      <td>151.5500</td>\n      <td>C</td>\n      <td>S</td>\n    </tr>\n  </tbody>\n</table>\n</div>",
       "datasetInfos": [],
       "metadata": {},
       "removedWidgets": [],
       "textData": null,
       "type": "htmlSandbox"
      }
     },
     "output_type": "display_data"
    }
   ],
   "source": [
    "df.head()"
   ]
  },
  {
   "cell_type": "code",
   "execution_count": 0,
   "metadata": {
    "application/vnd.databricks.v1+cell": {
     "cellMetadata": {
      "byteLimit": 2048000,
      "rowLimit": 10000
     },
     "inputWidgets": {},
     "nuid": "15772249-4a48-45ef-b9c0-77522617b05e",
     "showTitle": false,
     "title": ""
    }
   },
   "outputs": [
    {
     "output_type": "stream",
     "name": "stdout",
     "output_type": "stream",
     "text": [
      "['survived', 'sex']\ndrop these ['fare', 'sibsp', 'pclass', 'age', 'sex', 'parch'] \nkeep these ['cabin', 'embarked']\n"
     ]
    }
   ],
   "source": [
    "### Examine only columns with more than 2 values\n",
    "columns_to_drop_object = [col for col in df.columns if len(df[col].unique()) <= 2]\n",
    "print(columns_to_drop_object)\n",
    "\n",
    "### Examine only object columns\n",
    "object_columns = df.select_dtypes(exclude=['object']).columns.to_list()\n",
    "\n",
    "### Examine only numerical columns\n",
    "# non_numerical_columns = df.select_dtypes(exclude=['float64']).columns.to_list()\n",
    "\n",
    "\n",
    "drop_these = object_columns + columns_to_drop_object\n",
    "drop_these = list(set(drop_these))  # dedup\n",
    "\n",
    "### Keep Response variable in dataframe, even though it only has 2 values\n",
    "if col2 in drop_these:\n",
    "    drop_these.remove(col2)\n",
    "\n",
    "df_object_iterate = df.drop(columns=drop_these)\n",
    "cols_object_iterate = list(df_object_iterate.columns)\n",
    "\n",
    "### Remove the response variable from iterated column list - don't need to run it against itself\n",
    "if col2 in cols_object_iterate:\n",
    "    cols_object_iterate.remove(col2)\n",
    "\n",
    "print(\"drop these\", drop_these, \"\\nkeep these\", cols_object_iterate)"
   ]
  },
  {
   "cell_type": "code",
   "execution_count": 0,
   "metadata": {
    "application/vnd.databricks.v1+cell": {
     "cellMetadata": {
      "byteLimit": 2048000,
      "rowLimit": 10000
     },
     "inputWidgets": {},
     "nuid": "82387cf1-e56e-4e23-bd9c-7d75df223bc7",
     "showTitle": false,
     "title": ""
    }
   },
   "outputs": [],
   "source": [
    "df_encoded = pd.get_dummies(df, columns=cols_object_iterate)"
   ]
  },
  {
   "cell_type": "code",
   "execution_count": 0,
   "metadata": {
    "application/vnd.databricks.v1+cell": {
     "cellMetadata": {
      "byteLimit": 2048000,
      "rowLimit": 10000
     },
     "inputWidgets": {},
     "nuid": "363aa601-11a4-4842-8232-06043b2f95b2",
     "showTitle": false,
     "title": ""
    }
   },
   "outputs": [
    {
     "output_type": "stream",
     "name": "stdout",
     "output_type": "stream",
     "text": [
      "/databricks/spark/python/pyspark/sql/pandas/conversion.py:437: UserWarning: createDataFrame attempted Arrow optimization because 'spark.sql.execution.arrow.pyspark.enabled' is set to true; however, failed by the reason below:\n  Unable to convert the field cabin_A. If this column is not necessary, you may consider dropping it or converting to primitive type before the conversion.\nDirect cause: Unsupported type in conversion from Arrow: uint8\nAttempting non-optimization as 'spark.sql.execution.arrow.pyspark.fallback.enabled' is set to true.\n  warn(msg)\n"
     ]
    },
    {
     "output_type": "display_data",
     "data": {
      "text/html": [
       "<style scoped>\n",
       "  .table-result-container {\n",
       "    max-height: 300px;\n",
       "    overflow: auto;\n",
       "  }\n",
       "  table, th, td {\n",
       "    border: 1px solid black;\n",
       "    border-collapse: collapse;\n",
       "  }\n",
       "  th, td {\n",
       "    padding: 5px;\n",
       "  }\n",
       "  th {\n",
       "    text-align: left;\n",
       "  }\n",
       "</style><div class='table-result-container'><table class='table-result'><thead style='background-color: white'><tr><th>pclass</th><th>survived</th><th>sex</th><th>age</th><th>sibsp</th><th>parch</th><th>fare</th><th>cabin_A</th><th>cabin_B</th><th>cabin_C</th><th>cabin_D</th><th>cabin_E</th><th>cabin_F</th><th>cabin_G</th><th>cabin_N</th><th>cabin_T</th><th>embarked_C</th><th>embarked_Q</th><th>embarked_S</th></tr></thead><tbody><tr><td>1</td><td>1</td><td>0</td><td>29.0</td><td>0</td><td>0</td><td>211.3375</td><td>0</td><td>1</td><td>0</td><td>0</td><td>0</td><td>0</td><td>0</td><td>0</td><td>0</td><td>0</td><td>0</td><td>1</td></tr><tr><td>1</td><td>1</td><td>1</td><td>0.9167</td><td>1</td><td>2</td><td>151.55</td><td>0</td><td>0</td><td>1</td><td>0</td><td>0</td><td>0</td><td>0</td><td>0</td><td>0</td><td>0</td><td>0</td><td>1</td></tr><tr><td>1</td><td>0</td><td>0</td><td>2.0</td><td>1</td><td>2</td><td>151.55</td><td>0</td><td>0</td><td>1</td><td>0</td><td>0</td><td>0</td><td>0</td><td>0</td><td>0</td><td>0</td><td>0</td><td>1</td></tr><tr><td>1</td><td>0</td><td>1</td><td>30.0</td><td>1</td><td>2</td><td>151.55</td><td>0</td><td>0</td><td>1</td><td>0</td><td>0</td><td>0</td><td>0</td><td>0</td><td>0</td><td>0</td><td>0</td><td>1</td></tr><tr><td>1</td><td>0</td><td>0</td><td>25.0</td><td>1</td><td>2</td><td>151.55</td><td>0</td><td>0</td><td>1</td><td>0</td><td>0</td><td>0</td><td>0</td><td>0</td><td>0</td><td>0</td><td>0</td><td>1</td></tr></tbody></table></div>"
      ]
     },
     "metadata": {
      "application/vnd.databricks.v1+output": {
       "addedWidgets": {},
       "aggData": [],
       "aggError": "",
       "aggOverflow": false,
       "aggSchema": [],
       "aggSeriesLimitReached": false,
       "aggType": "",
       "arguments": {},
       "columnCustomDisplayInfos": {},
       "data": [
        [
         1,
         1,
         0,
         29.0,
         0,
         0,
         211.3375,
         0,
         1,
         0,
         0,
         0,
         0,
         0,
         0,
         0,
         0,
         0,
         1
        ],
        [
         1,
         1,
         1,
         0.9167,
         1,
         2,
         151.55,
         0,
         0,
         1,
         0,
         0,
         0,
         0,
         0,
         0,
         0,
         0,
         1
        ],
        [
         1,
         0,
         0,
         2.0,
         1,
         2,
         151.55,
         0,
         0,
         1,
         0,
         0,
         0,
         0,
         0,
         0,
         0,
         0,
         1
        ],
        [
         1,
         0,
         1,
         30.0,
         1,
         2,
         151.55,
         0,
         0,
         1,
         0,
         0,
         0,
         0,
         0,
         0,
         0,
         0,
         1
        ],
        [
         1,
         0,
         0,
         25.0,
         1,
         2,
         151.55,
         0,
         0,
         1,
         0,
         0,
         0,
         0,
         0,
         0,
         0,
         0,
         1
        ]
       ],
       "datasetInfos": [],
       "dbfsResultPath": null,
       "isJsonSchema": true,
       "metadata": {},
       "overflow": false,
       "plotOptions": {
        "customPlotOptions": {},
        "displayType": "table",
        "pivotAggregation": null,
        "pivotColumns": null,
        "xColumns": null,
        "yColumns": null
       },
       "removedWidgets": [],
       "schema": [
        {
         "metadata": "{}",
         "name": "pclass",
         "type": "\"long\""
        },
        {
         "metadata": "{}",
         "name": "survived",
         "type": "\"long\""
        },
        {
         "metadata": "{}",
         "name": "sex",
         "type": "\"long\""
        },
        {
         "metadata": "{}",
         "name": "age",
         "type": "\"double\""
        },
        {
         "metadata": "{}",
         "name": "sibsp",
         "type": "\"long\""
        },
        {
         "metadata": "{}",
         "name": "parch",
         "type": "\"long\""
        },
        {
         "metadata": "{}",
         "name": "fare",
         "type": "\"double\""
        },
        {
         "metadata": "{}",
         "name": "cabin_A",
         "type": "\"long\""
        },
        {
         "metadata": "{}",
         "name": "cabin_B",
         "type": "\"long\""
        },
        {
         "metadata": "{}",
         "name": "cabin_C",
         "type": "\"long\""
        },
        {
         "metadata": "{}",
         "name": "cabin_D",
         "type": "\"long\""
        },
        {
         "metadata": "{}",
         "name": "cabin_E",
         "type": "\"long\""
        },
        {
         "metadata": "{}",
         "name": "cabin_F",
         "type": "\"long\""
        },
        {
         "metadata": "{}",
         "name": "cabin_G",
         "type": "\"long\""
        },
        {
         "metadata": "{}",
         "name": "cabin_N",
         "type": "\"long\""
        },
        {
         "metadata": "{}",
         "name": "cabin_T",
         "type": "\"long\""
        },
        {
         "metadata": "{}",
         "name": "embarked_C",
         "type": "\"long\""
        },
        {
         "metadata": "{}",
         "name": "embarked_Q",
         "type": "\"long\""
        },
        {
         "metadata": "{}",
         "name": "embarked_S",
         "type": "\"long\""
        }
       ],
       "type": "table"
      }
     },
     "output_type": "display_data"
    },
    {
     "output_type": "stream",
     "name": "stdout",
     "output_type": "stream",
     "text": [
      "['cabin_A', 'cabin_B', 'cabin_C', 'cabin_D', 'cabin_E', 'cabin_F', 'cabin_G', 'cabin_N', 'cabin_T', 'embarked_C', 'embarked_Q', 'embarked_S']\n"
     ]
    }
   ],
   "source": [
    "display(df_encoded.head())\n",
    "cols_object_iterate = [col for col in df_encoded.columns if '_' in col]\n",
    "print(cols_object_iterate)"
   ]
  },
  {
   "cell_type": "code",
   "execution_count": 0,
   "metadata": {
    "application/vnd.databricks.v1+cell": {
     "cellMetadata": {
      "byteLimit": 2048000,
      "rowLimit": 10000
     },
     "inputWidgets": {},
     "nuid": "3a0c625d-979f-43ba-8b17-648bb8aca099",
     "showTitle": false,
     "title": ""
    }
   },
   "outputs": [
    {
     "output_type": "stream",
     "name": "stdout",
     "output_type": "stream",
     "text": [
      "   cabin_A  cabin_B  cabin_C  cabin_D  cabin_E  cabin_F  cabin_G  cabin_N  \\\n0        0        1        0        0        0        0        0        0   \n1        0        0        1        0        0        0        0        0   \n2        0        0        1        0        0        0        0        0   \n\n   cabin_T  embarked_C  embarked_Q  embarked_S  \n0        0           0           0           1  \n1        0           0           0           1  \n2        0           0           0           1  \n"
     ]
    }
   ],
   "source": [
    "print(df_encoded[cols_object_iterate].head(3))"
   ]
  },
  {
   "cell_type": "code",
   "execution_count": 0,
   "metadata": {
    "application/vnd.databricks.v1+cell": {
     "cellMetadata": {
      "byteLimit": 2048000,
      "rowLimit": 10000
     },
     "inputWidgets": {},
     "nuid": "5708e890-8def-4820-9eee-5c561a2a0607",
     "showTitle": false,
     "title": ""
    }
   },
   "outputs": [
    {
     "output_type": "stream",
     "name": "stdout",
     "output_type": "stream",
     "text": [
      "working on column cabin_A\n                   cabin_A (0)   cabin_A (1)   cabin_A (Total)\n(0) survived               797            11               808\n(1) survived               487            11               498\n(Total) survived          1284            22              1306\ncontingency_table rows: survived, columns: cabin_A\nManual Mutual Information: 0.000\nworking on column cabin_B\n                   cabin_B (0)   cabin_B (1)   cabin_B (Total)\n(0) survived               790            18               808\n(1) survived               453            45               498\n(Total) survived          1243            63              1306\ncontingency_table rows: survived, columns: cabin_B\nManual Mutual Information: 0.012\nworking on column cabin_C\n                   cabin_C (0)   cabin_C (1)   cabin_C (Total)\n(0) survived               771            37               808\n(1) survived               441            57               498\n(Total) survived          1212            94              1306\ncontingency_table rows: survived, columns: cabin_C\nManual Mutual Information: 0.008\nworking on column cabin_D\n                   cabin_D (0)   cabin_D (1)   cabin_D (Total)\n(0) survived               794            14               808\n(1) survived               466            32               498\n(Total) survived          1260            46              1306\ncontingency_table rows: survived, columns: cabin_D\nManual Mutual Information: 0.007\nworking on column cabin_E\n                   cabin_E (0)   cabin_E (1)   cabin_E (Total)\n(0) survived               797            11               808\n(1) survived               468            30               498\n(Total) survived          1265            41              1306\ncontingency_table rows: survived, columns: cabin_E\nManual Mutual Information: 0.008\nworking on column cabin_F\n                   cabin_F (0)   cabin_F (1)   cabin_F (Total)\n(0) survived               800             8               808\n(1) survived               485            13               498\n(Total) survived          1285            21              1306\ncontingency_table rows: survived, columns: cabin_F\nManual Mutual Information: 0.002\nworking on column cabin_G\n                   cabin_G (0)   cabin_G (1)   cabin_G (Total)\n(0) survived               806             2               808\n(1) survived               495             3               498\n(Total) survived          1301             5              1306\ncontingency_table rows: survived, columns: cabin_G\nManual Mutual Information: 0.000\nworking on column cabin_N\n                   cabin_N (0)   cabin_N (1)   cabin_N (Total)\n(0) survived               102           706               808\n(1) survived               191           307               498\n(Total) survived           293          1013              1306\ncontingency_table rows: survived, columns: cabin_N\nManual Mutual Information: 0.044\nworking on column cabin_T\n                   cabin_T (0)   cabin_T (1)   cabin_T (Total)\n(0) survived               807             1               808\n(1) survived               498             0               498\n(Total) survived          1305             1              1306\ncontingency_table rows: survived, columns: cabin_T\nManual Mutual Information: 0.000\nworking on column embarked_C\n                   embarked_C (0)   embarked_C (1)   embarked_C (Total)\n(0) survived                  688              120                  808\n(1) survived                  348              150                  498\n(Total) survived             1036              270                 1306\ncontingency_table rows: survived, columns: embarked_C\nManual Mutual Information: 0.016\nworking on column embarked_Q\n                   embarked_Q (0)   embarked_Q (1)   embarked_Q (Total)\n(0) survived                  729               79                  808\n(1) survived                  454               44                  498\n(Total) survived             1183              123                 1306\ncontingency_table rows: survived, columns: embarked_Q\nManual Mutual Information: 0.000\nworking on column embarked_S\n                   embarked_S (0)   embarked_S (1)   embarked_S (Total)\n(0) survived                  199              609                  808\n(1) survived                  194              304                  498\n(Total) survived              393              913                 1306\ncontingency_table rows: survived, columns: embarked_S\nManual Mutual Information: 0.011\n"
     ]
    },
    {
     "output_type": "display_data",
     "data": {
      "text/html": [
       "<style scoped>\n",
       "  .table-result-container {\n",
       "    max-height: 300px;\n",
       "    overflow: auto;\n",
       "  }\n",
       "  table, th, td {\n",
       "    border: 1px solid black;\n",
       "    border-collapse: collapse;\n",
       "  }\n",
       "  th, td {\n",
       "    padding: 5px;\n",
       "  }\n",
       "  th {\n",
       "    text-align: left;\n",
       "  }\n",
       "</style><div class='table-result-container'><table class='table-result'><thead style='background-color: white'><tr><th>Response</th><th>Feature</th><th>manual_mutual_info</th><th>sklearn_mutual_info</th></tr></thead><tbody><tr><td>survived</td><td>cabin_N</td><td>0.044</td><td>0.044</td></tr><tr><td>survived</td><td>embarked_C</td><td>0.016</td><td>0.016</td></tr><tr><td>survived</td><td>cabin_B</td><td>0.012</td><td>0.012</td></tr><tr><td>survived</td><td>embarked_S</td><td>0.011</td><td>0.011</td></tr><tr><td>survived</td><td>cabin_C</td><td>0.008</td><td>0.008</td></tr><tr><td>survived</td><td>cabin_E</td><td>0.008</td><td>0.008</td></tr><tr><td>survived</td><td>cabin_D</td><td>0.007</td><td>0.007</td></tr><tr><td>survived</td><td>cabin_F</td><td>0.002</td><td>0.002</td></tr><tr><td>survived</td><td>cabin_A</td><td>0.0</td><td>0.0</td></tr><tr><td>survived</td><td>cabin_G</td><td>0.0</td><td>0.0</td></tr><tr><td>survived</td><td>cabin_T</td><td>0.0</td><td>0.0</td></tr><tr><td>survived</td><td>embarked_Q</td><td>0.0</td><td>0.0</td></tr></tbody></table></div>"
      ]
     },
     "metadata": {
      "application/vnd.databricks.v1+output": {
       "addedWidgets": {},
       "aggData": [],
       "aggError": "",
       "aggOverflow": false,
       "aggSchema": [],
       "aggSeriesLimitReached": false,
       "aggType": "",
       "arguments": {},
       "columnCustomDisplayInfos": {},
       "data": [
        [
         "survived",
         "cabin_N",
         0.044,
         0.044
        ],
        [
         "survived",
         "embarked_C",
         0.016,
         0.016
        ],
        [
         "survived",
         "cabin_B",
         0.012,
         0.012
        ],
        [
         "survived",
         "embarked_S",
         0.011,
         0.011
        ],
        [
         "survived",
         "cabin_C",
         0.008,
         0.008
        ],
        [
         "survived",
         "cabin_E",
         0.008,
         0.008
        ],
        [
         "survived",
         "cabin_D",
         0.007,
         0.007
        ],
        [
         "survived",
         "cabin_F",
         0.002,
         0.002
        ],
        [
         "survived",
         "cabin_A",
         0.0,
         0.0
        ],
        [
         "survived",
         "cabin_G",
         0.0,
         0.0
        ],
        [
         "survived",
         "cabin_T",
         0.0,
         0.0
        ],
        [
         "survived",
         "embarked_Q",
         0.0,
         0.0
        ]
       ],
       "datasetInfos": [],
       "dbfsResultPath": null,
       "isJsonSchema": true,
       "metadata": {},
       "overflow": false,
       "plotOptions": {
        "customPlotOptions": {},
        "displayType": "table",
        "pivotAggregation": null,
        "pivotColumns": null,
        "xColumns": null,
        "yColumns": null
       },
       "removedWidgets": [],
       "schema": [
        {
         "metadata": "{}",
         "name": "Response",
         "type": "\"string\""
        },
        {
         "metadata": "{}",
         "name": "Feature",
         "type": "\"string\""
        },
        {
         "metadata": "{}",
         "name": "manual_mutual_info",
         "type": "\"double\""
        },
        {
         "metadata": "{}",
         "name": "sklearn_mutual_info",
         "type": "\"double\""
        }
       ],
       "type": "table"
      }
     },
     "output_type": "display_data"
    }
   ],
   "source": [
    "### Iterate thru all object Columns getting Mutual Info with col2 (response variable - set in Mutual Info section)\n",
    "\n",
    "mutual_info_summary_object = pd.DataFrame(columns=['Response', 'Feature', 'manual_mutual_info', 'sklearn_mutual_info'])\n",
    "\n",
    "for col1 in cols_object_iterate:\n",
    "    print(f\"working on column {col1}\")\n",
    "    manual_mutual_info_value, summary_df = get_mutual_info_from_contingency_table(create_contingency_table(df_encoded, col1=col1, col2=col2))\n",
    "\n",
    "    sklearn_mutual_info_value = get_sklearn_mutual_info(df_encoded, col1=col1, col2=col2, col1_discrete=True)\n",
    "    mutual_info_summary_object = mutual_info_summary_object.append({\n",
    "        'Feature': col1,\n",
    "        'Response': col2,\n",
    "        'manual_mutual_info': manual_mutual_info_value,\n",
    "        'sklearn_mutual_info': sklearn_mutual_info_value,\n",
    "        }, ignore_index=True).sort_values(by='sklearn_mutual_info', ascending=False)\n",
    "\n",
    "display(mutual_info_summary_object)"
   ]
  },
  {
   "cell_type": "markdown",
   "metadata": {
    "application/vnd.databricks.v1+cell": {
     "cellMetadata": {
      "byteLimit": 2048000,
      "rowLimit": 10000
     },
     "inputWidgets": {},
     "nuid": "f8cba5e0-5e54-4248-a0d6-e475b3e4917b",
     "showTitle": false,
     "title": ""
    }
   },
   "source": [
    "## Result: Discrete (non-binary) Variables\n",
    "One-hot-encoding turns discrete/categorical variables into binary; which we've already shown to be equally evaluated by Manual vs. Sklearn, and re-proven that here.  However note the downside is having only a mutual information PER VALUE of categorical column, rather than the column's overall importance.  \n"
   ]
  },
  {
   "cell_type": "markdown",
   "metadata": {
    "application/vnd.databricks.v1+cell": {
     "cellMetadata": {
      "byteLimit": 2048000,
      "rowLimit": 10000
     },
     "inputWidgets": {},
     "nuid": "c12babee-45c7-4a61-884b-557a65d5d3be",
     "showTitle": false,
     "title": ""
    }
   },
   "source": [
    "# Findings\n",
    "A Manual Calculation of Mutual Information based on a well-known formula was created. \n",
    " - When applied to Discrete (Binary) values, and compared with SKLearn's `mutual_info_classif`, the formula produces the same output. \n",
    " - When applied to Continuous values, the formula does not produce reliable results, and SKLearn's `mutual_info_classif` implementation should be used with specified parameter `discrete_features=[False]`\n",
    " - When applied to Discrete (but not Binary) values, SkLearn's `mutual_info_classif` implementation returns null if specified parameter `discrete_features=[True]`.\n",
    " - When Discrete (but not Binary) values are one-hot encoded, either Manual or Sklearn's approaches are equal (as already shown). However the downside is we've measured mutual information PER VALUE of categorical column, rather than the column's overall importance.\n",
    "\n",
    "Clarified (and still clarifying) sklearn's use of the word 'discrete' here."
   ]
  }
 ],
 "metadata": {
  "application/vnd.databricks.v1+notebook": {
   "dashboards": [],
   "environmentMetadata": null,
   "language": "python",
   "notebookMetadata": {
    "pythonIndentUnit": 4
   },
   "notebookName": "Mutual Info Tests - Compare Manual vs sklearn",
   "widgets": {}
  }
 },
 "nbformat": 4,
 "nbformat_minor": 0
}
